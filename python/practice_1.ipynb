{
  "nbformat": 4,
  "nbformat_minor": 0,
  "metadata": {
    "colab": {
      "provenance": [],
      "authorship_tag": "ABX9TyNh689hb8bIaI2IicEsHAhf",
      "include_colab_link": true
    },
    "kernelspec": {
      "name": "python3",
      "display_name": "Python 3"
    },
    "language_info": {
      "name": "python"
    }
  },
  "cells": [
    {
      "cell_type": "markdown",
      "metadata": {
        "id": "view-in-github",
        "colab_type": "text"
      },
      "source": [
        "<a href=\"https://colab.research.google.com/github/Arghay013/machine-learning-start/blob/main/python/practice_1.ipynb\" target=\"_parent\"><img src=\"https://colab.research.google.com/assets/colab-badge.svg\" alt=\"Open In Colab\"/></a>"
      ]
    },
    {
      "cell_type": "markdown",
      "source": [
        "# **E. Lowest Number**"
      ],
      "metadata": {
        "id": "91qfj0KGvhSG"
      }
    },
    {
      "cell_type": "code",
      "source": [
        "N = int(input())\n",
        "A = list(map(int, input().split()))\n",
        "\n",
        "min_value = min(A)\n",
        "position = A.index(min_value) + 1  # +1 for 1-indexed position\n",
        "\n",
        "print(min_value, position)"
      ],
      "metadata": {
        "colab": {
          "base_uri": "https://localhost:8080/"
        },
        "id": "J_RGWL0wvmXN",
        "outputId": "400dc60d-1042-46aa-822f-7f08bfda43de"
      },
      "execution_count": null,
      "outputs": [
        {
          "output_type": "stream",
          "name": "stdout",
          "text": [
            "3\n",
            "1 2 3 4 5\n",
            "1 1\n"
          ]
        }
      ]
    },
    {
      "cell_type": "markdown",
      "source": [
        "# M. Replace **MinMax**"
      ],
      "metadata": {
        "id": "p7EitxUayp6V"
      }
    },
    {
      "cell_type": "code",
      "source": [
        "N = int(input())\n",
        "A = list(map(int, input().split()))\n",
        "min_index = A.index(min(A))\n",
        "max_index = A.index(max(A))\n",
        "A[min_index], A[max_index] = A[max_index], A[min_index]\n",
        "print(A)\n"
      ],
      "metadata": {
        "colab": {
          "base_uri": "https://localhost:8080/"
        },
        "id": "pBfKdUVGyqMd",
        "outputId": "b15d17ae-b03f-4680-e0e0-8f8e74758b33"
      },
      "execution_count": null,
      "outputs": [
        {
          "output_type": "stream",
          "name": "stdout",
          "text": [
            "5\n",
            "1 2 3 4 5\n",
            "[5, 2, 3, 4, 1]\n"
          ]
        }
      ]
    },
    {
      "cell_type": "markdown",
      "source": [
        "# K. Sum **Digits**"
      ],
      "metadata": {
        "id": "GZ8ZX-BBzOFN"
      }
    },
    {
      "cell_type": "code",
      "source": [
        "N = int(input())\n",
        "A = input()\n",
        "print(sum(map(int, A)))\n"
      ],
      "metadata": {
        "colab": {
          "base_uri": "https://localhost:8080/"
        },
        "id": "uefelXSYzRZN",
        "outputId": "c7304289-5860-488c-cddf-d5f4a79128c3"
      },
      "execution_count": null,
      "outputs": [
        {
          "output_type": "stream",
          "name": "stdout",
          "text": [
            "2\n",
            "4\n",
            "4\n"
          ]
        }
      ]
    },
    {
      "cell_type": "markdown",
      "source": [
        "# Smart Light **Pilot**"
      ],
      "metadata": {
        "id": "4uiFYXyMYAjX"
      }
    },
    {
      "cell_type": "code",
      "source": [
        "inp = input()\n",
        "inp = inp.split()\n",
        "bright = float(inp[0])\n",
        "dark = float(inp[1])\n",
        "if bright>= dark:\n",
        "  print(\"ON\")\n",
        "else:\n",
        "  print(\"OFF\")"
      ],
      "metadata": {
        "colab": {
          "base_uri": "https://localhost:8080/"
        },
        "id": "JOLvGGUUX_Ek",
        "outputId": "6b2ce480-2ee0-4157-bf3a-671664783a1f"
      },
      "execution_count": null,
      "outputs": [
        {
          "output_type": "stream",
          "name": "stdout",
          "text": [
            "40 50\n",
            "OFF\n"
          ]
        }
      ]
    },
    {
      "cell_type": "markdown",
      "source": [
        "# Sensor Calibrator — Min-Max Scaling"
      ],
      "metadata": {
        "id": "XOfhi8kDZ35X"
      }
    },
    {
      "cell_type": "code",
      "source": [
        "inp = input().split()\n",
        "x = float(inp[0])\n",
        "mn = float(inp[1])\n",
        "mx = float(inp[2])\n",
        "ans = (x-mn)/(mx-mn)\n",
        "print(f\"{ans:.2f}\")"
      ],
      "metadata": {
        "colab": {
          "base_uri": "https://localhost:8080/"
        },
        "id": "BbJ9_TxKZ6Nb",
        "outputId": "b0303bcb-9143-4b94-e927-bdc1dcba38da"
      },
      "execution_count": null,
      "outputs": [
        {
          "output_type": "stream",
          "name": "stdout",
          "text": [
            "0 0 10\n",
            "0.00\n"
          ]
        }
      ]
    },
    {
      "cell_type": "markdown",
      "source": [
        "# Mini Loss Tracker"
      ],
      "metadata": {
        "id": "BT6s6BZIfM45"
      }
    },
    {
      "cell_type": "code",
      "source": [
        "N = int(input())\n",
        "target = float(input())\n",
        "\n",
        "total = 0.0\n",
        "for i in range(N):\n",
        "    loss = float(input())\n",
        "    total += loss\n",
        "\n",
        "avg = total / N\n",
        "\n",
        "if avg <= target:\n",
        "    print(\"PASS\")\n",
        "else:\n",
        "    print(\"RETRY\")\n"
      ],
      "metadata": {
        "id": "DJsh7palfPqH"
      },
      "execution_count": null,
      "outputs": []
    },
    {
      "cell_type": "markdown",
      "source": [
        "# Majority Vote Gate"
      ],
      "metadata": {
        "id": "LN9Oz9dhD3hX"
      }
    },
    {
      "cell_type": "code",
      "source": [
        "n = int(input())\n",
        "cnt=0\n",
        "cntt=0\n",
        "for i in range(n):\n",
        "  vote = input()\n",
        "  if vote == \"YES\": cnt+=1\n",
        "  else: cntt+=1\n",
        "if cnt>=cntt:\n",
        "  print(\"ACCEPT\")\n",
        "else:\n",
        "  print(\"REJECT\")\n"
      ],
      "metadata": {
        "colab": {
          "base_uri": "https://localhost:8080/"
        },
        "id": "QMa9mdpZD5FR",
        "outputId": "8f29dbf5-d545-45f8-cef8-8e006f2bf65f"
      },
      "execution_count": null,
      "outputs": [
        {
          "output_type": "stream",
          "name": "stdout",
          "text": [
            "3\n",
            "YES\n",
            "NO\n",
            "YES\n",
            "ACCEPT\n"
          ]
        }
      ]
    },
    {
      "cell_type": "markdown",
      "source": [
        "# AI Mood Detector"
      ],
      "metadata": {
        "id": "fiDOuAq4HTWu"
      }
    },
    {
      "cell_type": "code",
      "source": [
        "inp = input()\n",
        "lst = inp.split()\n",
        "if lst.count(\"happy\") or lst.count(\"joy\") or lst.count(\"smile\") :\n",
        "  print(\"Happy Mood\")\n",
        "elif lst.count(\"sad\") or lst.count(\"cry\") or lst.count(\"angry\") :\n",
        "  print(\"Sad Mood\")\n",
        "else:\n",
        "  print(\"Neutral Mood\")"
      ],
      "metadata": {
        "colab": {
          "base_uri": "https://localhost:8080/"
        },
        "id": "JDiTZ7gpHVHn",
        "outputId": "23c199ae-8007-48b2-9b1c-e4cf55a5f97f"
      },
      "execution_count": null,
      "outputs": [
        {
          "output_type": "stream",
          "name": "stdout",
          "text": [
            "just walking around\n",
            "Neutral Mood\n"
          ]
        }
      ]
    },
    {
      "cell_type": "markdown",
      "source": [
        "# AI Brightness Analyzer"
      ],
      "metadata": {
        "id": "nlgVKLAsI9sY"
      }
    },
    {
      "cell_type": "code",
      "source": [
        "inp = input().split()\n",
        "pixels = []\n",
        "for val in inp:\n",
        "    pixels.append(int(val))\n",
        "\n",
        "avg = sum(pixels) / len(pixels)\n",
        "\n",
        "if avg < 85:\n",
        "    print(\"Dark Image\")\n",
        "elif avg <= 170:\n",
        "    print(\"Normal Image\")\n",
        "else:\n",
        "    print(\"Bright Image\")\n"
      ],
      "metadata": {
        "colab": {
          "base_uri": "https://localhost:8080/"
        },
        "id": "lmx7aDONJADi",
        "outputId": "696d8222-4dd9-43af-e540-e3b01ccec41e"
      },
      "execution_count": null,
      "outputs": [
        {
          "output_type": "stream",
          "name": "stdout",
          "text": [
            "200 230 255 180\n",
            "Bright Image\n"
          ]
        }
      ]
    },
    {
      "cell_type": "markdown",
      "source": [
        "# AI Bias Detector"
      ],
      "metadata": {
        "id": "kXE9azsHK6kI"
      }
    },
    {
      "cell_type": "code",
      "source": [
        "preds = input().split()\n",
        "total = len(preds)\n",
        "a_count = preds.count(\"A\")\n",
        "b_count = preds.count(\"B\")\n",
        "\n",
        "if a_count / total > 0.7 or b_count / total > 0.7:\n",
        "    print(\"Biased Model\")\n",
        "else:\n",
        "    print(\"Fair Model\")\n"
      ],
      "metadata": {
        "colab": {
          "base_uri": "https://localhost:8080/"
        },
        "id": "iKyAmG84K8rw",
        "outputId": "a7bbd89e-970e-45f2-c941-0b95308af005"
      },
      "execution_count": null,
      "outputs": [
        {
          "output_type": "stream",
          "name": "stdout",
          "text": [
            "A B\n",
            "Fair Model\n"
          ]
        }
      ]
    },
    {
      "cell_type": "markdown",
      "source": [
        "# AI Keyword Counte"
      ],
      "metadata": {
        "id": "nEEdUvZoRzPY"
      }
    },
    {
      "cell_type": "code",
      "source": [
        "msg = input().split()\n",
        "keywords = [\"ai\", \"data\", \"model\", \"learn\", \"train\", \"neural\"]\n",
        "\n",
        "count = 0\n",
        "for word in keywords:\n",
        "    if word in msg:\n",
        "        count += 1\n",
        "\n",
        "if count >= 2:\n",
        "    print(\"AI Detected\")\n",
        "else:\n",
        "    print(\"Not AI Related\")\n"
      ],
      "metadata": {
        "colab": {
          "base_uri": "https://localhost:8080/"
        },
        "id": "pWyzdOlnRxra",
        "outputId": "f452b8df-6991-40f8-d190-07fd8b88ca0a"
      },
      "execution_count": null,
      "outputs": [
        {
          "output_type": "stream",
          "name": "stdout",
          "text": [
            "i love to train a neural model\n",
            "AI Detected\n"
          ]
        }
      ]
    }
  ]
}