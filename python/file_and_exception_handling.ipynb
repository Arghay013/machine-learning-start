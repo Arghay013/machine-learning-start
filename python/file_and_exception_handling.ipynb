{
  "nbformat": 4,
  "nbformat_minor": 0,
  "metadata": {
    "colab": {
      "provenance": [],
      "authorship_tag": "ABX9TyNFjQHmOzr7727a+jfbDzA/",
      "include_colab_link": true
    },
    "kernelspec": {
      "name": "python3",
      "display_name": "Python 3"
    },
    "language_info": {
      "name": "python"
    }
  },
  "cells": [
    {
      "cell_type": "markdown",
      "metadata": {
        "id": "view-in-github",
        "colab_type": "text"
      },
      "source": [
        "<a href=\"https://colab.research.google.com/github/Arghay013/machine-learning-start/blob/main/python/file_and_exception_handling.ipynb\" target=\"_parent\"><img src=\"https://colab.research.google.com/assets/colab-badge.svg\" alt=\"Open In Colab\"/></a>"
      ]
    },
    {
      "cell_type": "code",
      "execution_count": null,
      "metadata": {
        "colab": {
          "base_uri": "https://localhost:8080/"
        },
        "id": "f24GeZG3hh_N",
        "outputId": "211235e5-b9fb-499f-8e5b-2da77109a2b4"
      },
      "outputs": [
        {
          "output_type": "stream",
          "name": "stdout",
          "text": [
            "<class 'str'>\n",
            "True\n"
          ]
        }
      ],
      "source": [
        "file = open(\"./sample_data/sample.txt\",\"r\")\n",
        "\n",
        "content = file.read()\n",
        "\n",
        "print(type(content))\n",
        "\n",
        "file.close()\n",
        "print(file.closed)"
      ]
    },
    {
      "cell_type": "code",
      "source": [
        "with open(\"./sample_data/sample.txt\",\"r\") as file:\n",
        "  content = file.readlines()\n",
        "  print(content)\n",
        "\n",
        "print(file.closed)"
      ],
      "metadata": {
        "colab": {
          "base_uri": "https://localhost:8080/"
        },
        "id": "s804y9l-jzPx",
        "outputId": "f9424ea1-83a5-4b7d-d477-ec1997197bcf"
      },
      "execution_count": null,
      "outputs": [
        {
          "output_type": "stream",
          "name": "stdout",
          "text": [
            "['hello gyes  \\n', '\\n', 'sobai kemon achen\\n']\n",
            "True\n"
          ]
        }
      ]
    },
    {
      "cell_type": "code",
      "source": [
        "with open(\"./sample_data/sample.txt\",\"r\") as file:\n",
        "  for line in file:\n",
        "    l = line.strip()"
      ],
      "metadata": {
        "id": "NEyXjbp0moyx"
      },
      "execution_count": null,
      "outputs": []
    },
    {
      "cell_type": "code",
      "source": [
        "file = open(\"./sample_data/sample.txt\",\"r\")\n",
        "\n",
        "content = file.readlines()\n",
        "\n",
        "content = list(map(str.strip,content))\n",
        "\n",
        "filter_content = list(filter(lambda x : len(x)>=1,content))\n",
        "\n",
        "print(content)"
      ],
      "metadata": {
        "colab": {
          "base_uri": "https://localhost:8080/"
        },
        "id": "KTWqWPHZjk_S",
        "outputId": "72bd4ae5-857f-4015-a8b2-ee9ce3a9122c"
      },
      "execution_count": null,
      "outputs": [
        {
          "output_type": "stream",
          "name": "stdout",
          "text": [
            "['hello gyes', '', 'sobai kemon achen']\n"
          ]
        }
      ]
    },
    {
      "cell_type": "markdown",
      "source": [
        "# File Write"
      ],
      "metadata": {
        "id": "oYy4uZ1amy_A"
      }
    },
    {
      "cell_type": "code",
      "source": [
        "# creating a new file and writing there\n",
        "with open(\"./sample_data/test.txt\",\"w\") as file:\n",
        "\n",
        "  file.write(\"Hello test file\\n\")\n",
        "  file.write(\"How is learning going on ?\")"
      ],
      "metadata": {
        "id": "5XOxCwiIm3s4"
      },
      "execution_count": 3,
      "outputs": []
    },
    {
      "cell_type": "code",
      "source": [
        "# writing on a existing file\n",
        "# it overwrites the file\n",
        "\n",
        "with open(\"./sample_data/test.txt\",\"w\") as file:\n",
        "\n",
        "  file.write(\"Second attempt\\n\")\n",
        "  file.write(\"learning is going fast\\n\")"
      ],
      "metadata": {
        "id": "i2fFxrnUm8z_"
      },
      "execution_count": 4,
      "outputs": []
    },
    {
      "cell_type": "code",
      "source": [
        "# No overwriting just append the text later\n",
        "# append mode\n",
        "with open(\"./sample_data/test.txt\",\"a\") as file:\n",
        "\n",
        "  file.write(\"The learning of AI/ML is fun\\n\")\n",
        "  file.write(\"I am enjoying the classes\")"
      ],
      "metadata": {
        "id": "QG9OjAF2ngdp"
      },
      "execution_count": 5,
      "outputs": []
    },
    {
      "cell_type": "code",
      "source": [
        "strings = ['hello','hi','good bye','what up']\n",
        "\n",
        "with open(\"./sample_data/test2.txt\",\"a\") as file:\n",
        "\n",
        "  file.writelines(strings)"
      ],
      "metadata": {
        "id": "wk8ihuGNnn14"
      },
      "execution_count": 6,
      "outputs": []
    },
    {
      "cell_type": "code",
      "source": [
        "with open(\"./sample_data/sample.txt\",\"r\") as file:\n",
        "  print(file.tell()) # currently cursor koi ase\n",
        "  print(file.read())\n",
        "  print(file.tell())\n",
        "  ## last index theke pora shuru korsi\n",
        "  print(file.read())\n"
      ],
      "metadata": {
        "colab": {
          "base_uri": "https://localhost:8080/"
        },
        "id": "0EfNUs87iEG7",
        "outputId": "03343877-ec21-434f-c5dc-b3b5caf94ad2"
      },
      "execution_count": 8,
      "outputs": [
        {
          "output_type": "stream",
          "name": "stdout",
          "text": [
            "0\n",
            "\n",
            "0\n",
            "\n"
          ]
        }
      ]
    },
    {
      "cell_type": "code",
      "source": [
        "with open(\"./sample_data/sample.txt\",\"r\") as file:\n",
        "  print(file.tell())\n",
        "  print(file.read(5))\n",
        "  print(file.tell())\n",
        "\n",
        "  print(file.read())\n",
        "  print(file.tell())"
      ],
      "metadata": {
        "colab": {
          "base_uri": "https://localhost:8080/"
        },
        "id": "rdxZQZO7i0iT",
        "outputId": "ce3fee1f-64ad-497f-9db4-d0197456b21e"
      },
      "execution_count": 9,
      "outputs": [
        {
          "output_type": "stream",
          "name": "stdout",
          "text": [
            "0\n",
            "hello\n",
            "5\n",
            " world \n",
            "12\n"
          ]
        }
      ]
    },
    {
      "cell_type": "code",
      "source": [
        "#seek\n",
        "\n",
        "with open(\"./sample_data/sample.txt\",\"r\") as file:\n",
        "  print(file.tell())\n",
        "\n",
        "  print(file.read(5))\n",
        "\n",
        "  print(file.tell())\n",
        "\n",
        "  file.seek(0)\n",
        "  print(file.tell())\n",
        "  print(file.read(5))\n"
      ],
      "metadata": {
        "colab": {
          "base_uri": "https://localhost:8080/"
        },
        "id": "RSyQ-SmDi3wi",
        "outputId": "f3800ab2-8104-4fae-8bfa-84ceb74c7366"
      },
      "execution_count": 10,
      "outputs": [
        {
          "output_type": "stream",
          "name": "stdout",
          "text": [
            "0\n",
            "hello\n",
            "5\n",
            "0\n",
            "hello\n"
          ]
        }
      ]
    },
    {
      "cell_type": "markdown",
      "source": [
        "# Practice 1 :\n",
        "Get the text from sample.txt , and count the following\n",
        "\n",
        "Number of lines\n",
        "\n",
        "Number of words\n",
        "\n",
        "Number of characters\n",
        "\n",
        "and save it to the counter_of_string.txt file"
      ],
      "metadata": {
        "id": "UTetZhrni7Vz"
      }
    },
    {
      "cell_type": "code",
      "source": [
        "from functools import reduce\n",
        "\n",
        "with open(\"./sample_data/sample.txt\",\"r\") as file:\n",
        "  string_list = file.readlines()\n",
        "\n",
        "  # total line koita\n",
        "  total_lines = len(string_list)\n",
        "\n",
        "  # word ber korbo\n",
        "  number_of_words = list(map(lambda x : len(x.split()),string_list))\n",
        "  #total words\n",
        "  total_number_of_words = reduce(lambda x,y : x+y ,number_of_words)\n",
        "\n",
        "  #cleaning process\n",
        "\n",
        "  # 1. new line delete\n",
        "  string_list = list(map(str.strip,string_list))\n",
        "\n",
        "  #2. space delete\n",
        "\n",
        "  string_list = list(map(lambda x : x.replace(\" \",\"\"),string_list))\n",
        "\n",
        "  # koita character\n",
        "\n",
        "  number_of_character = list(map(lambda x : len(x),string_list))\n",
        "\n",
        "  # total character\n",
        "  total_number_of_characters = reduce(lambda x,y : x+y ,number_of_character)\n",
        "\n",
        "\n",
        "\n",
        "with open(\"./sample_data/counter_of_string.txt\",\"w\") as file:\n",
        "  file.write(f\"total line: {total_lines}\\ntotal number of words:{total_number_of_words}\\ntotal number of char: {total_number_of_characters}\")\n",
        "\n"
      ],
      "metadata": {
        "id": "tcPJ8DHoi-fa"
      },
      "execution_count": 11,
      "outputs": []
    },
    {
      "cell_type": "markdown",
      "source": [
        "# Practice 2\n",
        "Write then read with one open"
      ],
      "metadata": {
        "id": "a4nbZcnkjX6i"
      }
    },
    {
      "cell_type": "code",
      "source": [
        "with open(\"./sample_data/write_read.txt\",\"w+\") as file:\n",
        "  file.write(\"Hello world\")\n",
        "\n",
        "  print(file.tell())\n",
        "\n",
        "  file.seek(0)\n",
        "  print(file.tell())\n",
        "\n",
        "  print(file.read())\n",
        "\n",
        "  file.truncate(5)\n",
        "\n",
        "  file.seek(0)\n",
        "\n",
        "  print(file.read())"
      ],
      "metadata": {
        "colab": {
          "base_uri": "https://localhost:8080/"
        },
        "id": "YnYQNfqtjZ2K",
        "outputId": "e84cb554-d9eb-4084-a26c-98f2490fef4d"
      },
      "execution_count": 13,
      "outputs": [
        {
          "output_type": "stream",
          "name": "stdout",
          "text": [
            "11\n",
            "0\n",
            "Hello world\n",
            "Hello\n"
          ]
        }
      ]
    },
    {
      "cell_type": "markdown",
      "source": [
        "# Exception Handling"
      ],
      "metadata": {
        "id": "zVEbNJTzjeHa"
      }
    },
    {
      "cell_type": "code",
      "source": [
        "n = int(input())\n",
        "\n",
        "try:\n",
        "  a = 10/0\n",
        "except ZeroDivisionError:\n",
        "  print(\"you cant divide a number by 0\")\n",
        "\n",
        "print(\"hello world\")"
      ],
      "metadata": {
        "colab": {
          "base_uri": "https://localhost:8080/"
        },
        "id": "Fpqe1fmgjhPT",
        "outputId": "28d33233-1fe1-4e90-c3c5-0f7f4323338c"
      },
      "execution_count": 14,
      "outputs": [
        {
          "output_type": "stream",
          "name": "stdout",
          "text": [
            "5\n",
            "you cant divide a number by 0\n",
            "hello world\n"
          ]
        }
      ]
    },
    {
      "cell_type": "code",
      "source": [
        "try:\n",
        "  x = y\n",
        "except ZeroDivisionError:\n",
        "  print(\"you cant divide a number by 0\")\n",
        "except Exception as e:\n",
        "  print(e)\n",
        "\n",
        "\n",
        "print(\"hello world\")"
      ],
      "metadata": {
        "colab": {
          "base_uri": "https://localhost:8080/"
        },
        "id": "VjwDDyB0jnky",
        "outputId": "26ffa119-b3dc-4fe4-9266-e3794b973ffa"
      },
      "execution_count": 16,
      "outputs": [
        {
          "output_type": "stream",
          "name": "stdout",
          "text": [
            "name 'y' is not defined\n",
            "hello world\n"
          ]
        }
      ]
    },
    {
      "cell_type": "code",
      "source": [
        "# model train\n",
        "\n",
        "\n",
        "try:\n",
        "  file = open(\"./sample_data/data1.txt\",\"r\")\n",
        "except Exception as e:\n",
        "  print(e)\n",
        "else:\n",
        "  # model train\n",
        "  print(file.read())\n",
        "finally:\n",
        "  print(\"Gpu is stopped\")"
      ],
      "metadata": {
        "colab": {
          "base_uri": "https://localhost:8080/"
        },
        "id": "2RksAZOkjtLT",
        "outputId": "39396349-d0d2-4a17-d2da-d26aab7fbd39"
      },
      "execution_count": 17,
      "outputs": [
        {
          "output_type": "stream",
          "name": "stdout",
          "text": [
            "[Errno 2] No such file or directory: './sample_data/data1.txt'\n",
            "Gpu is stopped\n"
          ]
        }
      ]
    }
  ]
}