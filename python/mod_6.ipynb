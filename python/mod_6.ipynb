{
  "nbformat": 4,
  "nbformat_minor": 0,
  "metadata": {
    "colab": {
      "provenance": [],
      "authorship_tag": "ABX9TyOtbhbgAMkTtnUonGZG4W2I",
      "include_colab_link": true
    },
    "kernelspec": {
      "name": "python3",
      "display_name": "Python 3"
    },
    "language_info": {
      "name": "python"
    }
  },
  "cells": [
    {
      "cell_type": "markdown",
      "metadata": {
        "id": "view-in-github",
        "colab_type": "text"
      },
      "source": [
        "<a href=\"https://colab.research.google.com/github/Arghay013/machine-learning-start/blob/main/python/mod_6.ipynb\" target=\"_parent\"><img src=\"https://colab.research.google.com/assets/colab-badge.svg\" alt=\"Open In Colab\"/></a>"
      ]
    },
    {
      "cell_type": "code",
      "execution_count": 2,
      "metadata": {
        "id": "jMn4_a7pZkJE"
      },
      "outputs": [],
      "source": [
        "def greet():\n",
        "    print(\"hello\")"
      ]
    },
    {
      "cell_type": "code",
      "source": [
        "greet()"
      ],
      "metadata": {
        "colab": {
          "base_uri": "https://localhost:8080/"
        },
        "id": "QZF0lhl4g8Wa",
        "outputId": "0aa4d168-422d-42f8-a95d-88b6ef07fa2a"
      },
      "execution_count": 3,
      "outputs": [
        {
          "output_type": "stream",
          "name": "stdout",
          "text": [
            "hello\n"
          ]
        }
      ]
    },
    {
      "cell_type": "markdown",
      "source": [
        "## function parameters ( Input )"
      ],
      "metadata": {
        "id": "7xTL7FhUhEpS"
      }
    },
    {
      "cell_type": "code",
      "source": [
        "def greet(user = \"guest\"):\n",
        "    print(f\"hello {user}\")"
      ],
      "metadata": {
        "id": "x2sSzqnRhILq"
      },
      "execution_count": 5,
      "outputs": []
    },
    {
      "cell_type": "code",
      "source": [
        "greet(\"adil\")"
      ],
      "metadata": {
        "colab": {
          "base_uri": "https://localhost:8080/"
        },
        "id": "24e75xT5hKLk",
        "outputId": "d9737a57-f35a-4e78-88b6-b79b96ce0c9b"
      },
      "execution_count": 8,
      "outputs": [
        {
          "output_type": "stream",
          "name": "stdout",
          "text": [
            "hello adil\n"
          ]
        }
      ]
    },
    {
      "cell_type": "code",
      "source": [
        "def square_addition(a,b,c):\n",
        "    print(f\"{a} {b} {c}\")\n",
        "    a=a**2\n",
        "    b= b**2\n",
        "    return a+b+c\n",
        "#positional argument\n",
        "ans = square_addition(10,20,30) + 10\n",
        "print(ans)\n",
        "\n",
        "#keyword argument\n",
        "ans = square_addition(b=10,c=20,a=30) + 10\n",
        "print(ans)"
      ],
      "metadata": {
        "colab": {
          "base_uri": "https://localhost:8080/"
        },
        "id": "d_FuIc8YhRkz",
        "outputId": "e09ee95a-510a-4ce9-f638-523a83f39b40"
      },
      "execution_count": 9,
      "outputs": [
        {
          "output_type": "stream",
          "name": "stdout",
          "text": [
            "10 20 30\n",
            "540\n",
            "30 10 20\n",
            "1030\n"
          ]
        }
      ]
    },
    {
      "cell_type": "code",
      "source": [
        "def square_addition(*args):\n",
        "    summation =0\n",
        "    for i in args:\n",
        "        i = i**2\n",
        "        summation+=i\n",
        "    return summation"
      ],
      "metadata": {
        "id": "FehnF-Ikhh2L"
      },
      "execution_count": 10,
      "outputs": []
    },
    {
      "cell_type": "code",
      "source": [
        "ans = square_addition(10,20,30,40,50)\n",
        "print(ans)"
      ],
      "metadata": {
        "colab": {
          "base_uri": "https://localhost:8080/"
        },
        "id": "jaHFONbchkYL",
        "outputId": "1d603390-06aa-45ab-9d11-f9e2dca6a7be"
      },
      "execution_count": 11,
      "outputs": [
        {
          "output_type": "stream",
          "name": "stdout",
          "text": [
            "5500\n"
          ]
        }
      ]
    },
    {
      "cell_type": "code",
      "source": [
        "def student(**kwargs):\n",
        "    for key,val in kwargs.items():\n",
        "        print(f\"{key} : {val}\")"
      ],
      "metadata": {
        "id": "IVVOlHmmhlPa"
      },
      "execution_count": 12,
      "outputs": []
    },
    {
      "cell_type": "code",
      "source": [
        "student(name = \"adil\" , cls =10 , roll=30 , marks = 30.5)"
      ],
      "metadata": {
        "colab": {
          "base_uri": "https://localhost:8080/"
        },
        "id": "HO2029XYhx6z",
        "outputId": "d1e5bc2d-5121-4b33-ad70-92bb7164287b"
      },
      "execution_count": 13,
      "outputs": [
        {
          "output_type": "stream",
          "name": "stdout",
          "text": [
            "name : adil\n",
            "cls : 10\n",
            "roll : 30\n",
            "marks : 30.5\n"
          ]
        }
      ]
    },
    {
      "cell_type": "markdown",
      "source": [
        "# return"
      ],
      "metadata": {
        "id": "OGbkEnNUh3jb"
      }
    },
    {
      "cell_type": "code",
      "source": [
        "def give_prediction():\n",
        "    return 10\n",
        "\n",
        "type(give_prediction())"
      ],
      "metadata": {
        "colab": {
          "base_uri": "https://localhost:8080/"
        },
        "id": "4e1Kd9E1h6Nq",
        "outputId": "13f7eebf-6465-4a74-b5f6-d1ef3ab94a21"
      },
      "execution_count": 14,
      "outputs": [
        {
          "output_type": "execute_result",
          "data": {
            "text/plain": [
              "int"
            ]
          },
          "metadata": {},
          "execution_count": 14
        }
      ]
    },
    {
      "cell_type": "code",
      "source": [
        "def give_prediction():\n",
        "    return 10.5\n",
        "\n",
        "type(give_prediction())"
      ],
      "metadata": {
        "colab": {
          "base_uri": "https://localhost:8080/"
        },
        "id": "PfYOsZcnh_CT",
        "outputId": "b2a60c9c-bad1-4411-d891-a7e7dc0b45f8"
      },
      "execution_count": 15,
      "outputs": [
        {
          "output_type": "execute_result",
          "data": {
            "text/plain": [
              "float"
            ]
          },
          "metadata": {},
          "execution_count": 15
        }
      ]
    },
    {
      "cell_type": "code",
      "source": [
        "def give_prediction():\n",
        "    return \"name\"\n",
        "\n",
        "type(give_prediction())"
      ],
      "metadata": {
        "colab": {
          "base_uri": "https://localhost:8080/"
        },
        "id": "IlSn8Wrbh_wK",
        "outputId": "1382d7e0-afcc-4966-992a-1c0a968a40ea"
      },
      "execution_count": 16,
      "outputs": [
        {
          "output_type": "execute_result",
          "data": {
            "text/plain": [
              "str"
            ]
          },
          "metadata": {},
          "execution_count": 16
        }
      ]
    },
    {
      "cell_type": "code",
      "source": [
        "def give_prediction(a,b):\n",
        "\n",
        "    return a,b\n",
        "\n",
        "type(give_prediction(10,30))\n",
        "\n",
        "print(give_prediction(10,30))\n",
        "\n",
        "## unpacking\n",
        "\n",
        "x , y = give_prediction(10,30)\n",
        "\n",
        "print(x,y)"
      ],
      "metadata": {
        "colab": {
          "base_uri": "https://localhost:8080/"
        },
        "id": "qOllFlx0iCWD",
        "outputId": "80969833-9e13-43d7-bed9-b67e7302ed56"
      },
      "execution_count": 17,
      "outputs": [
        {
          "output_type": "stream",
          "name": "stdout",
          "text": [
            "(10, 30)\n",
            "10 30\n"
          ]
        }
      ]
    },
    {
      "cell_type": "code",
      "source": [
        "def give_prediction():\n",
        "\n",
        "    a= [10,20,30]\n",
        "    b= [20,30,40]\n",
        "    return a,b\n",
        "\n",
        "type(give_prediction())\n",
        "\n",
        "## unpacking\n",
        "x , y = give_prediction()\n",
        "\n",
        "print(x)\n",
        "print(y)"
      ],
      "metadata": {
        "colab": {
          "base_uri": "https://localhost:8080/"
        },
        "id": "Rjc2DnhwiFK6",
        "outputId": "9ed6ed4d-8868-4648-e44d-2ecd2749673e"
      },
      "execution_count": 18,
      "outputs": [
        {
          "output_type": "stream",
          "name": "stdout",
          "text": [
            "[10, 20, 30]\n",
            "[20, 30, 40]\n"
          ]
        }
      ]
    },
    {
      "cell_type": "code",
      "source": [
        "def give_prediction():\n",
        "\n",
        "    a= {10,20,30}\n",
        "    b = [100,200,300]\n",
        "    return a,b\n",
        "\n",
        "x = give_prediction()\n",
        "\n",
        "print(type(x))\n",
        "\n",
        "for item in x:\n",
        "    print(item)"
      ],
      "metadata": {
        "colab": {
          "base_uri": "https://localhost:8080/"
        },
        "id": "29UY82p6iRIa",
        "outputId": "55dfddc1-e2e3-4ffb-c105-8f6925d8f17b"
      },
      "execution_count": 19,
      "outputs": [
        {
          "output_type": "stream",
          "name": "stdout",
          "text": [
            "<class 'tuple'>\n",
            "{10, 20, 30}\n",
            "[100, 200, 300]\n"
          ]
        }
      ]
    },
    {
      "cell_type": "code",
      "source": [
        "def give_prediction():\n",
        "    return { \"name\" : \"adil\" , \"addr\" : \"Ctg\"},{ \"name\" : \"abrar\" , \"addr\" : \"dhaka\"}\n",
        "\n",
        "\n",
        "x,y = give_prediction()\n",
        "\n",
        "print(type(x))\n",
        "\n",
        "\n",
        "for item in x.items():\n",
        "    print(item)"
      ],
      "metadata": {
        "colab": {
          "base_uri": "https://localhost:8080/"
        },
        "id": "49nAwPj6iTnD",
        "outputId": "a8e332ac-27c6-4975-dba1-d6ca017b65f3"
      },
      "execution_count": 20,
      "outputs": [
        {
          "output_type": "stream",
          "name": "stdout",
          "text": [
            "<class 'dict'>\n",
            "('name', 'adil')\n",
            "('addr', 'Ctg')\n"
          ]
        }
      ]
    },
    {
      "cell_type": "code",
      "source": [],
      "metadata": {
        "id": "XI4PW2xniVvi"
      },
      "execution_count": null,
      "outputs": []
    },
    {
      "cell_type": "markdown",
      "source": [
        "# iterator"
      ],
      "metadata": {
        "id": "qNYHCbm1iYpj"
      }
    },
    {
      "cell_type": "code",
      "source": [
        " s= {10 , 20 , 30 , 40 , 50 }\n",
        "s_iter = iter(s)\n",
        "print(next(s_iter))\n",
        "print(next(s_iter))\n",
        "print(next(s_iter))\n",
        "print(next(s_iter))\n",
        "print(next(s_iter))\n",
        "\n",
        "for i in s:\n",
        "    print(i)"
      ],
      "metadata": {
        "colab": {
          "base_uri": "https://localhost:8080/"
        },
        "id": "8N_-07yzibAD",
        "outputId": "74f45feb-34ca-4eda-c12d-081457833e66"
      },
      "execution_count": 23,
      "outputs": [
        {
          "output_type": "stream",
          "name": "stdout",
          "text": [
            "50\n",
            "20\n",
            "40\n",
            "10\n",
            "30\n",
            "50\n",
            "20\n",
            "40\n",
            "10\n",
            "30\n"
          ]
        }
      ]
    },
    {
      "cell_type": "markdown",
      "source": [
        "# generator"
      ],
      "metadata": {
        "id": "GgSHxNjuijcS"
      }
    },
    {
      "cell_type": "code",
      "source": [
        "lst = [ x for x in range(500) ] # dataset\n",
        "\n",
        "def data_loader(chunk_size,lst):\n",
        "    for i in range(0,len(lst),chunk_size):\n",
        "        yield lst[i:i+chunk_size]\n",
        "\n",
        "\n",
        "x = data_loader(5,lst)\n",
        "\n",
        "print(next(x))\n",
        "print(next(x))"
      ],
      "metadata": {
        "colab": {
          "base_uri": "https://localhost:8080/"
        },
        "id": "m4YDRDDeil5b",
        "outputId": "5663d6ea-3820-47f5-cf7e-3de7e593b7ed"
      },
      "execution_count": 24,
      "outputs": [
        {
          "output_type": "stream",
          "name": "stdout",
          "text": [
            "[0, 1, 2, 3, 4]\n",
            "[5, 6, 7, 8, 9]\n"
          ]
        }
      ]
    },
    {
      "cell_type": "markdown",
      "source": [
        "# Lambda function"
      ],
      "metadata": {
        "id": "_6O_aPmRinTr"
      }
    },
    {
      "cell_type": "code",
      "source": [
        "def square_addition(x,y):\n",
        "    return x**2 + y**2\n",
        "\n",
        "\n",
        "sq_add = lambda x,y : x**2 + y**2\n",
        "\n",
        "print( sq_add(2,3))"
      ],
      "metadata": {
        "colab": {
          "base_uri": "https://localhost:8080/"
        },
        "id": "gyMIJZBNiqjS",
        "outputId": "40b58da6-68ca-4e8f-b9bc-a1b5c83760bb"
      },
      "execution_count": 25,
      "outputs": [
        {
          "output_type": "stream",
          "name": "stdout",
          "text": [
            "13\n"
          ]
        }
      ]
    },
    {
      "cell_type": "code",
      "source": [
        "\n",
        "string = \"hello world, welcome to the age of AI\"\n",
        "string1 = list(map(str.upper , string))\n",
        "print(string1)\n",
        "string1 = \" \".join(string1)\n",
        "print(string1)"
      ],
      "metadata": {
        "colab": {
          "base_uri": "https://localhost:8080/"
        },
        "id": "BADXXeY1itH6",
        "outputId": "2f787dea-7f58-4c20-ea86-8176aded8b7e"
      },
      "execution_count": 26,
      "outputs": [
        {
          "output_type": "stream",
          "name": "stdout",
          "text": [
            "['H', 'E', 'L', 'L', 'O', ' ', 'W', 'O', 'R', 'L', 'D', ',', ' ', 'W', 'E', 'L', 'C', 'O', 'M', 'E', ' ', 'T', 'O', ' ', 'T', 'H', 'E', ' ', 'A', 'G', 'E', ' ', 'O', 'F', ' ', 'A', 'I']\n",
            "H E L L O   W O R L D ,   W E L C O M E   T O   T H E   A G E   O F   A I\n"
          ]
        }
      ]
    },
    {
      "cell_type": "code",
      "source": [
        "# map with lambda function\n",
        "lst = [ 1 ,2 ,3 ,4 ,5 ,6 ]\n",
        "\n",
        "lst = list(map(lambda x : x**2,lst))\n",
        "\n",
        "print(lst)"
      ],
      "metadata": {
        "colab": {
          "base_uri": "https://localhost:8080/"
        },
        "id": "u98agjUbitiy",
        "outputId": "055b23df-6a3b-4b35-cc3a-583eb9ff9d91"
      },
      "execution_count": 27,
      "outputs": [
        {
          "output_type": "stream",
          "name": "stdout",
          "text": [
            "[1, 4, 9, 16, 25, 36]\n"
          ]
        }
      ]
    },
    {
      "cell_type": "markdown",
      "source": [
        "# filter"
      ],
      "metadata": {
        "id": "pk0cnXr1ixCz"
      }
    },
    {
      "cell_type": "code",
      "source": [
        "numbers = [x for x in range(100)]\n",
        "\n",
        "\n",
        "# even\n",
        "\n",
        "even = list(filter( lambda x : x % 2 ==0,numbers))\n",
        "\n",
        "#print(even)\n",
        "\n",
        "\n",
        "\n",
        "fifty_upper = list(filter( lambda x : x >50,numbers))\n",
        "\n",
        "print(fifty_upper)"
      ],
      "metadata": {
        "colab": {
          "base_uri": "https://localhost:8080/"
        },
        "id": "Dkai47YMi0hj",
        "outputId": "41cdc9c8-59d1-4f3b-e52f-0b3bdaa2e84b"
      },
      "execution_count": 28,
      "outputs": [
        {
          "output_type": "stream",
          "name": "stdout",
          "text": [
            "[51, 52, 53, 54, 55, 56, 57, 58, 59, 60, 61, 62, 63, 64, 65, 66, 67, 68, 69, 70, 71, 72, 73, 74, 75, 76, 77, 78, 79, 80, 81, 82, 83, 84, 85, 86, 87, 88, 89, 90, 91, 92, 93, 94, 95, 96, 97, 98, 99]\n"
          ]
        }
      ]
    },
    {
      "cell_type": "code",
      "source": [
        "data = [0, 1, '',None, 'Hello', [], [1, 2], None, True, False, None]\n",
        "\n",
        "cleaned_data = list(filter(None, data))\n",
        "\n",
        "print(cleaned_data)"
      ],
      "metadata": {
        "colab": {
          "base_uri": "https://localhost:8080/"
        },
        "id": "9ua2c2Jji4Z7",
        "outputId": "a54d256b-cab6-4e28-d838-bcd4ded7c192"
      },
      "execution_count": 29,
      "outputs": [
        {
          "output_type": "stream",
          "name": "stdout",
          "text": [
            "[1, 'Hello', [1, 2], True]\n"
          ]
        }
      ]
    },
    {
      "cell_type": "code",
      "source": [
        "# string\n",
        "\n",
        "vowel_ = list(filter( lambda x : x in \"AEIOU\" , string1))\n",
        "\n",
        "print(vowel_)"
      ],
      "metadata": {
        "colab": {
          "base_uri": "https://localhost:8080/"
        },
        "id": "AFcSpuB_i6uT",
        "outputId": "942c0105-a45c-44f8-aca9-7328b1780c42"
      },
      "execution_count": 30,
      "outputs": [
        {
          "output_type": "stream",
          "name": "stdout",
          "text": [
            "['E', 'O', 'O', 'E', 'O', 'E', 'O', 'E', 'A', 'E', 'O', 'A', 'I']\n"
          ]
        }
      ]
    },
    {
      "cell_type": "code",
      "source": [
        "fruits = [ 'aaa' , 'bb' , 'cccc' , 'ddddd' ]\n",
        "\n",
        "filtering = list(filter(lambda x: len(x)>2 , fruits))\n",
        "\n",
        "print(filtering)"
      ],
      "metadata": {
        "colab": {
          "base_uri": "https://localhost:8080/"
        },
        "id": "p4goEgARi9XD",
        "outputId": "a4521739-173e-45ec-a88f-8f332b10ad5d"
      },
      "execution_count": 31,
      "outputs": [
        {
          "output_type": "stream",
          "name": "stdout",
          "text": [
            "['aaa', 'cccc', 'ddddd']\n"
          ]
        }
      ]
    },
    {
      "cell_type": "markdown",
      "source": [
        "# Reduce"
      ],
      "metadata": {
        "id": "KwFBdOP5i_Tr"
      }
    },
    {
      "cell_type": "code",
      "source": [
        "from functools import reduce"
      ],
      "metadata": {
        "id": "Do3cCWiWjCT7"
      },
      "execution_count": 32,
      "outputs": []
    },
    {
      "cell_type": "code",
      "source": [
        "lst = [ 1 ,2 ,3 ,4 ,5 ,6 ]\n",
        "\n",
        "summation = reduce(lambda x,y : x+y , lst)\n",
        "\n",
        "print(summation)"
      ],
      "metadata": {
        "colab": {
          "base_uri": "https://localhost:8080/"
        },
        "id": "b1kV9Ex8jETr",
        "outputId": "24b36d60-e159-43f2-ee23-a07c0baeff22"
      },
      "execution_count": 33,
      "outputs": [
        {
          "output_type": "stream",
          "name": "stdout",
          "text": [
            "21\n"
          ]
        }
      ]
    },
    {
      "cell_type": "code",
      "source": [
        "lst = [ 1 ,2 ,10,4 ,5 ,6 ]\n",
        "\n",
        "max_value = reduce( lambda x , y :x if x > y else y ,lst)\n",
        "\n",
        "print(max_value)"
      ],
      "metadata": {
        "colab": {
          "base_uri": "https://localhost:8080/"
        },
        "id": "qCDfJmnmjE0S",
        "outputId": "8e8b6243-0a2f-4e0a-e980-ef6f63dba332"
      },
      "execution_count": 34,
      "outputs": [
        {
          "output_type": "stream",
          "name": "stdout",
          "text": [
            "10\n"
          ]
        }
      ]
    },
    {
      "cell_type": "code",
      "source": [
        "lst = [ \"hello\", \"world\" , \"welcome\" ,\"to\", \"programming\"]\n",
        "print(lst)"
      ],
      "metadata": {
        "colab": {
          "base_uri": "https://localhost:8080/"
        },
        "id": "i29BI626jGrK",
        "outputId": "24660bf6-3f95-4daf-e109-cf9278589a25"
      },
      "execution_count": 35,
      "outputs": [
        {
          "output_type": "stream",
          "name": "stdout",
          "text": [
            "['hello', 'world', 'welcome', 'to', 'programming']\n"
          ]
        }
      ]
    },
    {
      "cell_type": "code",
      "source": [
        "string = reduce(lambda x,y : x+ \" \" + y ,lst)\n",
        "print(string)"
      ],
      "metadata": {
        "colab": {
          "base_uri": "https://localhost:8080/"
        },
        "id": "VLB2mSzXjIej",
        "outputId": "bd1fe135-4ac0-4c02-e313-49602214a9c9"
      },
      "execution_count": 36,
      "outputs": [
        {
          "output_type": "stream",
          "name": "stdout",
          "text": [
            "hello world welcome to programming\n"
          ]
        }
      ]
    }
  ]
}