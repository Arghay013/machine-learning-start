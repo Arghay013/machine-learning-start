{
  "nbformat": 4,
  "nbformat_minor": 0,
  "metadata": {
    "colab": {
      "provenance": [],
      "authorship_tag": "ABX9TyMKAhS7J7AmHaaoeOzbmUfP",
      "include_colab_link": true
    },
    "kernelspec": {
      "name": "python3",
      "display_name": "Python 3"
    },
    "language_info": {
      "name": "python"
    }
  },
  "cells": [
    {
      "cell_type": "markdown",
      "metadata": {
        "id": "view-in-github",
        "colab_type": "text"
      },
      "source": [
        "<a href=\"https://colab.research.google.com/github/Arghay013/machine-learning-start/blob/main/python/car_bike/practice_oop.ipynb\" target=\"_parent\"><img src=\"https://colab.research.google.com/assets/colab-badge.svg\" alt=\"Open In Colab\"/></a>"
      ]
    },
    {
      "cell_type": "code",
      "execution_count": 2,
      "metadata": {
        "colab": {
          "base_uri": "https://localhost:8080/"
        },
        "id": "f07NSxV9rf6u",
        "outputId": "666cb9ec-2282-442f-9a03-561c2e2464b6"
      },
      "outputs": [
        {
          "output_type": "stream",
          "name": "stdout",
          "text": [
            "3\n",
            "Car Toyota 150\n",
            "Car Added: Toyota\n",
            "Bike Yamaha 90\n",
            "Bike Added: Yamaha\n",
            "Car Honda 120\n",
            "Car Added: Honda\n",
            "\n",
            "--- Vehicle Details ---\n",
            "Type: Car, Name: Toyota, Speed: 150 km/h, Predicted: High-speed Vehicle\n",
            "Type: Bike, Name: Yamaha, Speed: 90 km/h, Predicted: Normal Vehicle\n",
            "Type: Car, Name: Honda, Speed: 120 km/h, Predicted: High-speed Vehicle\n"
          ]
        }
      ],
      "source": [
        "# Base Class\n",
        "class Vehicle:\n",
        "    def __init__(self, vehicle_type, name, speed):\n",
        "        self._type = vehicle_type           # Protected attribute\n",
        "        self.__name = name                  # Private attribute\n",
        "        self.__speed = speed                # Private attribute\n",
        "\n",
        "    # Getter methods to access private attributes\n",
        "    def get_name(self):\n",
        "        return self.__name\n",
        "\n",
        "    def get_speed(self):\n",
        "        return self.__speed\n",
        "\n",
        "    # Classify vehicle based on speed\n",
        "    def classify(self):\n",
        "        if self.__speed > 100:\n",
        "            return \"High-speed Vehicle\"\n",
        "        else:\n",
        "            return \"Normal Vehicle\"\n",
        "\n",
        "    # This method will be overridden in subclasses\n",
        "    def show_info(self):\n",
        "        print(f\"Type: {self._type}, Name: {self.__name}, Speed: {self.__speed} km/h, Predicted: {self.classify()}\")\n",
        "\n",
        "\n",
        "# Derived Class: Car\n",
        "class Car(Vehicle):\n",
        "    def __init__(self, name, speed):\n",
        "        super().__init__(\"Car\", name, speed)\n",
        "\n",
        "    # Overriding show_info() method\n",
        "    def show_info(self):\n",
        "        print(f\"Type: Car, Name: {self.get_name()}, Speed: {self.get_speed()} km/h, Predicted: {self.classify()}\")\n",
        "\n",
        "\n",
        "# Derived Class: Bike\n",
        "class Bike(Vehicle):\n",
        "    def __init__(self, name, speed):\n",
        "        super().__init__(\"Bike\", name, speed)\n",
        "\n",
        "    # Overriding show_info() method\n",
        "    def show_info(self):\n",
        "        print(f\"Type: Bike, Name: {self.get_name()}, Speed: {self.get_speed()} km/h, Predicted: {self.classify()}\")\n",
        "\n",
        "\n",
        "\n",
        "vehicles = []  # list to store vehicle objects\n",
        "\n",
        "n = int(input())  # number of vehicles\n",
        "for _ in range(n):\n",
        "    data = input().split()\n",
        "    v_type, name, speed = data[0], data[1], int(data[2])\n",
        "\n",
        "    # Create object based on vehicle type\n",
        "    if v_type == \"Car\":\n",
        "        vehicle = Car(name, speed)\n",
        "    elif v_type == \"Bike\":\n",
        "        vehicle = Bike(name, speed)\n",
        "    else:\n",
        "        continue\n",
        "\n",
        "    vehicles.append(vehicle)\n",
        "    print(f\"{v_type} Added: {name}\")\n",
        "\n",
        "print(\"\\n--- Vehicle Details ---\")\n",
        "for v in vehicles:\n",
        "    v.show_info()\n"
      ]
    }
  ]
}