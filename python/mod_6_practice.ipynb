{
  "nbformat": 4,
  "nbformat_minor": 0,
  "metadata": {
    "colab": {
      "provenance": [],
      "authorship_tag": "ABX9TyP0T6r5oz+r9Dv8DvD6SBBd",
      "include_colab_link": true
    },
    "kernelspec": {
      "name": "python3",
      "display_name": "Python 3"
    },
    "language_info": {
      "name": "python"
    }
  },
  "cells": [
    {
      "cell_type": "markdown",
      "metadata": {
        "id": "view-in-github",
        "colab_type": "text"
      },
      "source": [
        "<a href=\"https://colab.research.google.com/github/Arghay013/machine-learning-start/blob/main/python/mod_6_practice.ipynb\" target=\"_parent\"><img src=\"https://colab.research.google.com/assets/colab-badge.svg\" alt=\"Open In Colab\"/></a>"
      ]
    },
    {
      "cell_type": "markdown",
      "source": [
        "# G. Max and MIN\n",
        "https://codeforces.com/group/MWSDmqGsZm/contest/223205/problem/G"
      ],
      "metadata": {
        "id": "5DJE6nP0MdrV"
      }
    },
    {
      "cell_type": "code",
      "source": [
        "n = int(input())\n",
        "lst = list(map(int, input().split()))\n",
        "# print(lst)\n",
        "mx = lambda x: max(lst)\n",
        "mn = lambda x: min(lst)\n",
        "print(mn(lst), mx(lst))"
      ],
      "metadata": {
        "colab": {
          "base_uri": "https://localhost:8080/"
        },
        "id": "3VSReg7CMeEM",
        "outputId": "27832fae-58d9-4019-89ce-2c5e1cf715d5"
      },
      "execution_count": 5,
      "outputs": [
        {
          "output_type": "stream",
          "name": "stdout",
          "text": [
            "5\n",
            "10 13 95 1 3\n",
            "1 95\n"
          ]
        }
      ]
    },
    {
      "cell_type": "markdown",
      "source": [
        "# J. Average\n",
        "https://codeforces.com/group/MWSDmqGsZm/contest/223205/problem/J"
      ],
      "metadata": {
        "id": "BB3sSTXkQDVt"
      }
    },
    {
      "cell_type": "code",
      "source": [
        "from functools import reduce\n",
        "\n",
        "\n",
        "n = int(input())\n",
        "arr = list(map(float, input().split()))\n",
        "\n",
        "total = reduce(lambda a, b: a + b, arr)\n",
        "\n",
        "avg = total / n\n",
        "print(f\"{avg:.7f}\")"
      ],
      "metadata": {
        "colab": {
          "base_uri": "https://localhost:8080/"
        },
        "id": "K5fWuf-sQK5M",
        "outputId": "cccc06ef-7fa8-497c-85ca-faa1fcfaedda"
      },
      "execution_count": 6,
      "outputs": [
        {
          "output_type": "stream",
          "name": "stdout",
          "text": [
            "3\n",
            "1.0 2.0 5.0\n",
            "2.6666667\n"
          ]
        }
      ]
    },
    {
      "cell_type": "markdown",
      "source": [
        "# L. New Array\n",
        "https://codeforces.com/group/MWSDmqGsZm/contest/223205/problem/L"
      ],
      "metadata": {
        "id": "afOs6O4pRB4s"
      }
    },
    {
      "cell_type": "code",
      "source": [
        "n = int(input())\n",
        "A = list(map(int, input().split()))\n",
        "B = list(map(int, input().split()))\n",
        "\n",
        "concat = lambda a, b: b + a\n",
        "\n",
        "C = concat(A, B)\n",
        "\n",
        "print(*C)\n"
      ],
      "metadata": {
        "colab": {
          "base_uri": "https://localhost:8080/"
        },
        "id": "ZxipyL8qRFhD",
        "outputId": "81c239cd-f19b-4e98-cb35-2e6a22ab055d"
      },
      "execution_count": 7,
      "outputs": [
        {
          "output_type": "stream",
          "name": "stdout",
          "text": [
            "2\n",
            "1 2\n",
            "3 4\n",
            "3 4 1 2\n"
          ]
        }
      ]
    }
  ]
}