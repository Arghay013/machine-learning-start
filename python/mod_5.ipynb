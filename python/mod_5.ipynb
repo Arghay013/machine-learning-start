{
  "nbformat": 4,
  "nbformat_minor": 0,
  "metadata": {
    "colab": {
      "provenance": [],
      "authorship_tag": "ABX9TyMeyBoUoNikhrET+kT7CaxQ",
      "include_colab_link": true
    },
    "kernelspec": {
      "name": "python3",
      "display_name": "Python 3"
    },
    "language_info": {
      "name": "python"
    }
  },
  "cells": [
    {
      "cell_type": "markdown",
      "metadata": {
        "id": "view-in-github",
        "colab_type": "text"
      },
      "source": [
        "<a href=\"https://colab.research.google.com/github/Arghay013/machine-learning-start/blob/main/python/mod_5.ipynb\" target=\"_parent\"><img src=\"https://colab.research.google.com/assets/colab-badge.svg\" alt=\"Open In Colab\"/></a>"
      ]
    },
    {
      "cell_type": "markdown",
      "source": [
        "# Tuples"
      ],
      "metadata": {
        "id": "fg4f4LzFSvpT"
      }
    },
    {
      "cell_type": "code",
      "source": [
        "# declaration\n",
        "\n",
        "tup = (10,20,30,40)\n",
        "\n",
        "float_tup = (10.5,10.2)\n",
        "mixed_tup = (10 , 10.5 , \"str\", True)\n",
        "\n",
        "\n",
        "lst = [10,20,30]\n",
        "\n",
        "tup1 = tuple(lst)\n",
        "\n",
        "print(type(tup1), tup1)"
      ],
      "metadata": {
        "colab": {
          "base_uri": "https://localhost:8080/"
        },
        "id": "0AnZcnFiSyyC",
        "outputId": "112d8a2d-9789-48db-d4e4-83598200ca74"
      },
      "execution_count": null,
      "outputs": [
        {
          "output_type": "stream",
          "name": "stdout",
          "text": [
            "<class 'tuple'> (10, 20, 30)\n"
          ]
        }
      ]
    },
    {
      "cell_type": "code",
      "source": [
        "# Access\n",
        "tup = ( 10 , 20 , 30 , 10.5 , \"str\" , False )\n",
        "\n",
        "#index\n",
        "print(tup[3])\n",
        "\n",
        "# slicing\n",
        "\n",
        "new_tup = tup[0:3]\n",
        "print(new_tup)"
      ],
      "metadata": {
        "colab": {
          "base_uri": "https://localhost:8080/"
        },
        "id": "ST-OqO_4S_Xq",
        "outputId": "7a6a024f-430b-4898-a8e9-fd2258d35d05"
      },
      "execution_count": null,
      "outputs": [
        {
          "output_type": "stream",
          "name": "stdout",
          "text": [
            "10.5\n",
            "(10, 20, 30)\n"
          ]
        }
      ]
    },
    {
      "cell_type": "code",
      "source": [
        "# mutable\n",
        "\n",
        "lst = [ 10 , 20 , 30 , 40 ]\n",
        "lst.append(60)\n",
        "lst[1] = 100\n",
        "print(lst)\n",
        "\n",
        "# immutable\n",
        "tup= ( 10 , 20 , 30 , 40 )\n",
        "tup[1]= 100\n",
        "print(tup)"
      ],
      "metadata": {
        "colab": {
          "base_uri": "https://localhost:8080/",
          "height": 211
        },
        "id": "GG9dsmYJTEd6",
        "outputId": "a780f19c-eec6-4c63-c00a-94169bfd3d06"
      },
      "execution_count": null,
      "outputs": [
        {
          "output_type": "stream",
          "name": "stdout",
          "text": [
            "[10, 100, 30, 40, 60]\n"
          ]
        },
        {
          "output_type": "error",
          "ename": "TypeError",
          "evalue": "'tuple' object does not support item assignment",
          "traceback": [
            "\u001b[0;31m---------------------------------------------------------------------------\u001b[0m",
            "\u001b[0;31mTypeError\u001b[0m                                 Traceback (most recent call last)",
            "\u001b[0;32m/tmp/ipython-input-3263753088.py\u001b[0m in \u001b[0;36m<cell line: 0>\u001b[0;34m()\u001b[0m\n\u001b[1;32m      8\u001b[0m \u001b[0;31m# immutable\u001b[0m\u001b[0;34m\u001b[0m\u001b[0;34m\u001b[0m\u001b[0m\n\u001b[1;32m      9\u001b[0m \u001b[0mtup\u001b[0m\u001b[0;34m=\u001b[0m \u001b[0;34m(\u001b[0m \u001b[0;36m10\u001b[0m \u001b[0;34m,\u001b[0m \u001b[0;36m20\u001b[0m \u001b[0;34m,\u001b[0m \u001b[0;36m30\u001b[0m \u001b[0;34m,\u001b[0m \u001b[0;36m40\u001b[0m \u001b[0;34m)\u001b[0m\u001b[0;34m\u001b[0m\u001b[0;34m\u001b[0m\u001b[0m\n\u001b[0;32m---> 10\u001b[0;31m \u001b[0mtup\u001b[0m\u001b[0;34m[\u001b[0m\u001b[0;36m1\u001b[0m\u001b[0;34m]\u001b[0m\u001b[0;34m=\u001b[0m \u001b[0;36m100\u001b[0m\u001b[0;34m\u001b[0m\u001b[0;34m\u001b[0m\u001b[0m\n\u001b[0m\u001b[1;32m     11\u001b[0m \u001b[0mprint\u001b[0m\u001b[0;34m(\u001b[0m\u001b[0mtup\u001b[0m\u001b[0;34m)\u001b[0m\u001b[0;34m\u001b[0m\u001b[0;34m\u001b[0m\u001b[0m\n",
            "\u001b[0;31mTypeError\u001b[0m: 'tuple' object does not support item assignment"
          ]
        }
      ]
    },
    {
      "cell_type": "code",
      "source": [
        "# tuple method\n",
        "tup= ( 10 , 20 , 30 , 40 , 10 , 20 , 30 ,10 )\n",
        "\n",
        "print(tup.count(10))\n",
        "print(tup.index(40))"
      ],
      "metadata": {
        "colab": {
          "base_uri": "https://localhost:8080/"
        },
        "id": "b1qyJFaXTKfa",
        "outputId": "d91ad742-3485-4d6b-bf42-fc6b94e4f9bc"
      },
      "execution_count": null,
      "outputs": [
        {
          "output_type": "stream",
          "name": "stdout",
          "text": [
            "3\n",
            "3\n"
          ]
        }
      ]
    },
    {
      "cell_type": "markdown",
      "source": [
        "# set"
      ],
      "metadata": {
        "id": "_dzcxnu9TNPD"
      }
    },
    {
      "cell_type": "code",
      "source": [
        "A = { 1, 2 , 3 }\n",
        "\n",
        "print(type(A) , A )"
      ],
      "metadata": {
        "colab": {
          "base_uri": "https://localhost:8080/"
        },
        "id": "O-WQQCnyTO4j",
        "outputId": "06dc7cae-b118-475f-a6b8-bee9fd87cd23"
      },
      "execution_count": null,
      "outputs": [
        {
          "output_type": "stream",
          "name": "stdout",
          "text": [
            "<class 'set'> {1, 2, 3}\n"
          ]
        }
      ]
    },
    {
      "cell_type": "code",
      "source": [
        "## empty structures\n",
        "B = []\n",
        "\n",
        "print(type(B))\n",
        "\n",
        "C= ()\n",
        "\n",
        "print(type(C))\n",
        "\n",
        "\n",
        "S = set()\n",
        "\n",
        "print(type(S))"
      ],
      "metadata": {
        "colab": {
          "base_uri": "https://localhost:8080/"
        },
        "id": "CSHP8_00TVDb",
        "outputId": "759a5006-c8f9-4116-d727-66e14308a469"
      },
      "execution_count": null,
      "outputs": [
        {
          "output_type": "stream",
          "name": "stdout",
          "text": [
            "<class 'list'>\n",
            "<class 'tuple'>\n",
            "<class 'set'>\n"
          ]
        }
      ]
    },
    {
      "cell_type": "code",
      "source": [
        "#accessing\n",
        "\n",
        "S= { 1 ,2 ,3 , 4 ,1 ,2 }\n",
        "\n",
        "if (10 in S):\n",
        "    print(\"3 is present\")\n",
        "else:\n",
        "    print(\"not present\")\n",
        "\n",
        "sum =0\n",
        "\n",
        "for element in S:\n",
        "    sum+= element\n",
        "\n",
        "print(sum)"
      ],
      "metadata": {
        "colab": {
          "base_uri": "https://localhost:8080/"
        },
        "id": "RpbFjcKlTZXD",
        "outputId": "cec8f7a3-adf3-45f5-950b-43dc3eeeb471"
      },
      "execution_count": null,
      "outputs": [
        {
          "output_type": "stream",
          "name": "stdout",
          "text": [
            "not present\n",
            "10\n"
          ]
        }
      ]
    },
    {
      "cell_type": "markdown",
      "source": [
        "# Set Mathematical Methods"
      ],
      "metadata": {
        "id": "CtD2qsg2Tfzz"
      }
    },
    {
      "cell_type": "code",
      "source": [
        "a = { 1, 2, 3 }\n",
        "b = {1, 2 , 5,6, 4 }\n",
        "\n",
        "print( a.union(b) )\n",
        "\n",
        "print(a.intersection(b))\n",
        "\n",
        "\n",
        "print(a.isdisjoint(b))\n",
        "\n",
        "\n",
        "print(a.issubset(b))"
      ],
      "metadata": {
        "colab": {
          "base_uri": "https://localhost:8080/"
        },
        "id": "CwMQQEyzThI6",
        "outputId": "f5b84702-51f0-48e8-a63a-d2959d9aa5b2"
      },
      "execution_count": null,
      "outputs": [
        {
          "output_type": "stream",
          "name": "stdout",
          "text": [
            "{1, 2, 3, 4, 5, 6}\n",
            "{1, 2}\n",
            "False\n",
            "False\n"
          ]
        }
      ]
    },
    {
      "cell_type": "markdown",
      "source": [
        "# Dictionaries in Python"
      ],
      "metadata": {
        "id": "1GvmGJIeTmeb"
      }
    },
    {
      "cell_type": "code",
      "source": [
        "# empty\n",
        "dic = {}\n",
        "print(type(dic))\n",
        "\n",
        "dic ={ \"name\" : \"Phitron\" , \"age\": 20 , \"address\" : \"Dhaka\" , \"numbers\":[10,20,30]}\n",
        "\n",
        "print(type(dic) , dic)"
      ],
      "metadata": {
        "colab": {
          "base_uri": "https://localhost:8080/"
        },
        "id": "xy_B-EPcTpvj",
        "outputId": "e9fa5450-264e-4ccd-b08e-30b41a9544bc"
      },
      "execution_count": null,
      "outputs": [
        {
          "output_type": "stream",
          "name": "stdout",
          "text": [
            "<class 'dict'>\n",
            "<class 'dict'> {'name': 'Phitron', 'age': 20, 'address': 'Dhaka', 'numbers': [10, 20, 30]}\n"
          ]
        }
      ]
    },
    {
      "cell_type": "code",
      "source": [
        "# access\n",
        "# dic_name[key]\n",
        "\n",
        "print(dic[\"numbers\"])\n",
        "print( dic.get(\"age\"))\n",
        "\n",
        "\n",
        "dic[\"name\"] = \"Phitron AI/ML\"\n",
        "\n",
        "dic ={ \"name\" : \"Phitron\" , \"age\": 20 , \"address\" : \"Dhaka\" , \"numbers\":[10,20,30],\"age\":30}\n",
        "print(dic)"
      ],
      "metadata": {
        "colab": {
          "base_uri": "https://localhost:8080/"
        },
        "id": "9zIRz4c-Tvyc",
        "outputId": "45ba873b-6877-445b-f36a-6a420b0a422b"
      },
      "execution_count": null,
      "outputs": [
        {
          "output_type": "stream",
          "name": "stdout",
          "text": [
            "[10, 20, 30]\n",
            "20\n",
            "{'name': 'Phitron', 'age': 30, 'address': 'Dhaka', 'numbers': [10, 20, 30]}\n"
          ]
        }
      ]
    },
    {
      "cell_type": "code",
      "source": [
        "#printing default values\n",
        "print(dic)\n",
        "\n",
        "print(dic.get(\"math_marks\"))\n",
        "print(dic.get(\"math_marks\",0))"
      ],
      "metadata": {
        "colab": {
          "base_uri": "https://localhost:8080/"
        },
        "id": "cBCIypgVTzcy",
        "outputId": "852e70d0-b4ab-4f98-bebd-9eece2e8bc3d"
      },
      "execution_count": null,
      "outputs": [
        {
          "output_type": "stream",
          "name": "stdout",
          "text": [
            "{'name': 'Phitron', 'age': 30, 'address': 'Dhaka', 'numbers': [10, 20, 30]}\n",
            "None\n",
            "0\n"
          ]
        }
      ]
    },
    {
      "cell_type": "code",
      "source": [
        "# adding a value\n",
        "\n",
        "dic ={ \"name\" : \"Phitron\" , \"age\": 20 , \"address\" : \"Dhaka\" , \"numbers\":[10,20,30],\"age\":30}\n",
        "\n",
        "print(dic)\n",
        "dic[\"math_marks\"]= 30\n",
        "print(dic)\n",
        "dic.update({\"english_marks\": 40})\n",
        "\n",
        "print(dic)"
      ],
      "metadata": {
        "colab": {
          "base_uri": "https://localhost:8080/"
        },
        "id": "jG5D14LQT3OS",
        "outputId": "41602754-69f5-4bd1-86c8-452564f3d126"
      },
      "execution_count": null,
      "outputs": [
        {
          "output_type": "stream",
          "name": "stdout",
          "text": [
            "{'name': 'Phitron', 'age': 30, 'address': 'Dhaka', 'numbers': [10, 20, 30]}\n",
            "{'name': 'Phitron', 'age': 30, 'address': 'Dhaka', 'numbers': [10, 20, 30], 'math_marks': 30}\n",
            "{'name': 'Phitron', 'age': 30, 'address': 'Dhaka', 'numbers': [10, 20, 30], 'math_marks': 30, 'english_marks': 40}\n"
          ]
        }
      ]
    },
    {
      "cell_type": "code",
      "source": [
        "# deleting\n",
        "\n",
        "del dic[\"math_marks\"]\n",
        "print(dic)"
      ],
      "metadata": {
        "colab": {
          "base_uri": "https://localhost:8080/"
        },
        "id": "dGRTIulET-ib",
        "outputId": "be401e5b-d020-4451-8a60-d711c48eb9e5"
      },
      "execution_count": null,
      "outputs": [
        {
          "output_type": "stream",
          "name": "stdout",
          "text": [
            "{'name': 'Phitron', 'age': 30, 'address': 'Dhaka', 'numbers': [10, 20, 30], 'english_marks': 40}\n"
          ]
        }
      ]
    },
    {
      "cell_type": "code",
      "source": [
        "dic_2=dic.copy()\n",
        "print(dic_2)"
      ],
      "metadata": {
        "colab": {
          "base_uri": "https://localhost:8080/"
        },
        "id": "5zL24VZBUEAT",
        "outputId": "dc0b4a1c-f73f-4372-b575-e883ab6b4c53"
      },
      "execution_count": null,
      "outputs": [
        {
          "output_type": "stream",
          "name": "stdout",
          "text": [
            "{'name': 'Phitron', 'age': 30, 'address': 'Dhaka', 'numbers': [10, 20, 30], 'english_marks': 40}\n"
          ]
        }
      ]
    },
    {
      "cell_type": "code",
      "source": [
        "# testing\n",
        "\n",
        "dic_3 = { {\"name\" : \"adil\" , \"age\" :20} : 20 }\n",
        "print(dic_3)"
      ],
      "metadata": {
        "colab": {
          "base_uri": "https://localhost:8080/",
          "height": 193
        },
        "id": "8jdW7seTUJHz",
        "outputId": "93dd63c3-78ac-4297-e986-e158050c5102"
      },
      "execution_count": null,
      "outputs": [
        {
          "output_type": "error",
          "ename": "TypeError",
          "evalue": "unhashable type: 'dict'",
          "traceback": [
            "\u001b[0;31m---------------------------------------------------------------------------\u001b[0m",
            "\u001b[0;31mTypeError\u001b[0m                                 Traceback (most recent call last)",
            "\u001b[0;32m/tmp/ipython-input-4116055021.py\u001b[0m in \u001b[0;36m<cell line: 0>\u001b[0;34m()\u001b[0m\n\u001b[1;32m      1\u001b[0m \u001b[0;31m# testing\u001b[0m\u001b[0;34m\u001b[0m\u001b[0;34m\u001b[0m\u001b[0m\n\u001b[1;32m      2\u001b[0m \u001b[0;34m\u001b[0m\u001b[0m\n\u001b[0;32m----> 3\u001b[0;31m \u001b[0mdic_3\u001b[0m \u001b[0;34m=\u001b[0m \u001b[0;34m{\u001b[0m \u001b[0;34m{\u001b[0m\u001b[0;34m\"name\"\u001b[0m \u001b[0;34m:\u001b[0m \u001b[0;34m\"adil\"\u001b[0m \u001b[0;34m,\u001b[0m \u001b[0;34m\"age\"\u001b[0m \u001b[0;34m:\u001b[0m\u001b[0;36m20\u001b[0m\u001b[0;34m}\u001b[0m \u001b[0;34m:\u001b[0m \u001b[0;36m20\u001b[0m \u001b[0;34m}\u001b[0m\u001b[0;34m\u001b[0m\u001b[0;34m\u001b[0m\u001b[0m\n\u001b[0m\u001b[1;32m      4\u001b[0m \u001b[0mprint\u001b[0m\u001b[0;34m(\u001b[0m\u001b[0mdic_3\u001b[0m\u001b[0;34m)\u001b[0m\u001b[0;34m\u001b[0m\u001b[0;34m\u001b[0m\u001b[0m\n",
            "\u001b[0;31mTypeError\u001b[0m: unhashable type: 'dict'"
          ]
        }
      ]
    },
    {
      "cell_type": "markdown",
      "source": [
        "# Iterating over Dictionary"
      ],
      "metadata": {
        "id": "HDzbop0hUMsL"
      }
    },
    {
      "cell_type": "code",
      "source": [
        "dic ={ \"name\" : \"Phitron\" , \"age\": 20 , \"address\" : \"Dhaka\" , \"numbers\":[10,20,30],\"age\":30}\n",
        "\n",
        "keys = dic.keys()\n",
        "\n",
        "print(keys)\n",
        "\n",
        "dic[\"math_numebers\"] = 30\n",
        "\n",
        "print(keys)\n",
        "\n",
        "values = dic.values()\n",
        "\n",
        "print(values)\n",
        "\n",
        "dic[\"math_numebers\"] = 40\n",
        "print(values)\n",
        "\n",
        "items = dic.items()\n",
        "\n",
        "print(items)"
      ],
      "metadata": {
        "colab": {
          "base_uri": "https://localhost:8080/"
        },
        "id": "zvjupXaqUPnK",
        "outputId": "42677b52-f81d-4629-ac0f-684e55622946"
      },
      "execution_count": null,
      "outputs": [
        {
          "output_type": "stream",
          "name": "stdout",
          "text": [
            "dict_keys(['name', 'age', 'address', 'numbers'])\n",
            "dict_keys(['name', 'age', 'address', 'numbers', 'math_numebers'])\n",
            "dict_values(['Phitron', 30, 'Dhaka', [10, 20, 30], 30])\n",
            "dict_values(['Phitron', 30, 'Dhaka', [10, 20, 30], 40])\n",
            "dict_items([('name', 'Phitron'), ('age', 30), ('address', 'Dhaka'), ('numbers', [10, 20, 30]), ('math_numebers', 40)])\n"
          ]
        }
      ]
    },
    {
      "cell_type": "code",
      "source": [
        "# iteration\n",
        "for key,value in dic.items():\n",
        "    print(key,value)"
      ],
      "metadata": {
        "colab": {
          "base_uri": "https://localhost:8080/"
        },
        "id": "Q9wFxb2RUWbj",
        "outputId": "1d0afe83-d2d1-4412-d43f-2664d88cde9d"
      },
      "execution_count": null,
      "outputs": [
        {
          "output_type": "stream",
          "name": "stdout",
          "text": [
            "name Phitron\n",
            "age 30\n",
            "address Dhaka\n",
            "numbers [10, 20, 30]\n",
            "math_numebers 40\n"
          ]
        }
      ]
    },
    {
      "cell_type": "markdown",
      "source": [
        "# Dictionary Comprehension"
      ],
      "metadata": {
        "id": "1-rL5H7vUaND"
      }
    },
    {
      "cell_type": "code",
      "source": [
        "square = {x:x**2  for x in range(1,11) if x%2==0}\n",
        "\n",
        "print(square)"
      ],
      "metadata": {
        "colab": {
          "base_uri": "https://localhost:8080/"
        },
        "id": "ZnyPh4M4UcEb",
        "outputId": "6b26948c-d25e-42ec-d2bf-f519bd12697b"
      },
      "execution_count": null,
      "outputs": [
        {
          "output_type": "stream",
          "name": "stdout",
          "text": [
            "{2: 4, 4: 16, 6: 36, 8: 64, 10: 100}\n"
          ]
        }
      ]
    },
    {
      "cell_type": "code",
      "source": [
        "Co_ordinates = [(10,10.5),(20.5,192) , ( 101,102) ]\n",
        "Locations =[\"dhaka\" , \"chattogram\" , \"sylhet\"]\n",
        "\n",
        "exact_location = {co_or : loc for co_or, loc in zip(Co_ordinates,Locations)}\n",
        "\n",
        "print(exact_location)"
      ],
      "metadata": {
        "colab": {
          "base_uri": "https://localhost:8080/"
        },
        "id": "AGIcu1q6Ug1z",
        "outputId": "f7f8a71c-4ecc-4dbe-b9b3-54121b175022"
      },
      "execution_count": null,
      "outputs": [
        {
          "output_type": "stream",
          "name": "stdout",
          "text": [
            "{(10, 10.5): 'dhaka', (20.5, 192): 'chattogram', (101, 102): 'sylhet'}\n"
          ]
        }
      ]
    },
    {
      "cell_type": "markdown",
      "source": [
        "# Problem Solving with In Built Structures"
      ],
      "metadata": {
        "id": "6AC3QYAsUmIM"
      }
    },
    {
      "cell_type": "markdown",
      "source": [
        "### 1. Given a list of numbers, make a list with unique values."
      ],
      "metadata": {
        "id": "BNq1dx1XUsY7"
      }
    },
    {
      "cell_type": "code",
      "source": [
        "lst = [10 , 20 , 10 , 30 , 30 , 50 , 30 , 10 , 20 , 10 , 10 ]\n",
        "\n",
        "unique_values = set(lst) ## conversion\n",
        "\n",
        "lst = list(unique_values)\n",
        "\n",
        "print(lst)"
      ],
      "metadata": {
        "colab": {
          "base_uri": "https://localhost:8080/"
        },
        "id": "5S6YWY0pUwK7",
        "outputId": "7e6025de-e54f-4f00-9873-4021d2ba836e"
      },
      "execution_count": null,
      "outputs": [
        {
          "output_type": "stream",
          "name": "stdout",
          "text": [
            "[10, 20, 50, 30]\n"
          ]
        }
      ]
    },
    {
      "cell_type": "markdown",
      "source": [
        "### 2. Given a string , print the frequency of the words"
      ],
      "metadata": {
        "id": "f4fs-gRhU1Gz"
      }
    },
    {
      "cell_type": "code",
      "source": [
        "string = \"\"\"data science machine learning data analysis machine\n",
        "learning statistics data models data training data validation features\n",
        "features labels preprocessing data augmentation models data optimization\n",
        "gradient descent neural networks data tensors matrices visualization\n",
        "exploration pandas numpy matplotlib seaborn scikitlearn tensorflow pytorch\n",
        "deployment inference production monitoring reproducibility experiments results\n",
        "metrics accuracy precision recall f1 cross validation data machine\n",
        "\"\"\"\n",
        "\n",
        "words = string.split()\n",
        "\n",
        "count = {}\n",
        "\n",
        "\n",
        "for word in words:\n",
        "    count[word]= count.get(word,0) +1\n",
        "\n",
        "for k,v in count.items():\n",
        "    print(f\"count of {k} is {v}\")"
      ],
      "metadata": {
        "id": "1zTPRNZ_U4vj",
        "outputId": "c13c61db-8f82-4afa-ce66-c398324c3ff6",
        "colab": {
          "base_uri": "https://localhost:8080/"
        }
      },
      "execution_count": null,
      "outputs": [
        {
          "output_type": "stream",
          "name": "stdout",
          "text": [
            "count of data is 9\n",
            "count of science is 1\n",
            "count of machine is 3\n",
            "count of learning is 2\n",
            "count of analysis is 1\n",
            "count of statistics is 1\n",
            "count of models is 2\n",
            "count of training is 1\n",
            "count of validation is 2\n",
            "count of features is 2\n",
            "count of labels is 1\n",
            "count of preprocessing is 1\n",
            "count of augmentation is 1\n",
            "count of optimization is 1\n",
            "count of gradient is 1\n",
            "count of descent is 1\n",
            "count of neural is 1\n",
            "count of networks is 1\n",
            "count of tensors is 1\n",
            "count of matrices is 1\n",
            "count of visualization is 1\n",
            "count of exploration is 1\n",
            "count of pandas is 1\n",
            "count of numpy is 1\n",
            "count of matplotlib is 1\n",
            "count of seaborn is 1\n",
            "count of scikitlearn is 1\n",
            "count of tensorflow is 1\n",
            "count of pytorch is 1\n",
            "count of deployment is 1\n",
            "count of inference is 1\n",
            "count of production is 1\n",
            "count of monitoring is 1\n",
            "count of reproducibility is 1\n",
            "count of experiments is 1\n",
            "count of results is 1\n",
            "count of metrics is 1\n",
            "count of accuracy is 1\n",
            "count of precision is 1\n",
            "count of recall is 1\n",
            "count of f1 is 1\n",
            "count of cross is 1\n"
          ]
        }
      ]
    },
    {
      "cell_type": "code",
      "source": [
        "print({'a': 1, 'b': 2}.keys())"
      ],
      "metadata": {
        "colab": {
          "base_uri": "https://localhost:8080/"
        },
        "id": "QVf1IfnZY599",
        "outputId": "e6835d7d-fa74-46c5-d9dc-df67f8ea615a"
      },
      "execution_count": 1,
      "outputs": [
        {
          "output_type": "stream",
          "name": "stdout",
          "text": [
            "dict_keys(['a', 'b'])\n"
          ]
        }
      ]
    }
  ]
}