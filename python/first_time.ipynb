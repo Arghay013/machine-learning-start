{
  "nbformat": 4,
  "nbformat_minor": 0,
  "metadata": {
    "colab": {
      "provenance": [],
      "authorship_tag": "ABX9TyPjOmWqPIOajAXafyDbhEq2",
      "include_colab_link": true
    },
    "kernelspec": {
      "name": "python3",
      "display_name": "Python 3"
    },
    "language_info": {
      "name": "python"
    }
  },
  "cells": [
    {
      "cell_type": "markdown",
      "metadata": {
        "id": "view-in-github",
        "colab_type": "text"
      },
      "source": [
        "<a href=\"https://colab.research.google.com/github/Arghay013/machine-learning-start/blob/main/python/first_time.ipynb\" target=\"_parent\"><img src=\"https://colab.research.google.com/assets/colab-badge.svg\" alt=\"Open In Colab\"/></a>"
      ]
    },
    {
      "cell_type": "code",
      "execution_count": null,
      "metadata": {
        "colab": {
          "base_uri": "https://localhost:8080/"
        },
        "id": "mmgdWp1Ra8oZ",
        "outputId": "736057c7-7c96-4dbf-c7ab-4e0bcdaed1c8"
      },
      "outputs": [
        {
          "output_type": "stream",
          "name": "stdout",
          "text": [
            "hello\n"
          ]
        }
      ],
      "source": [
        "print(\"hello\")"
      ]
    },
    {
      "cell_type": "code",
      "source": [
        "# --- DEMO: Core types & literals ---\n",
        "x = 42                 # int\n",
        "y = 3.14               # float\n",
        "z = \"hello\"            # str\n",
        "t = True               # bool\n",
        "lst = [[1, 2, 3, [\"Arif\", \"Rahul\", 3.5, 100*2], 4], [10 , 20, 30]]\n",
        "ls2D =[ [1, 2, 3],[4, 5, 6] ]     # list (mutable)\n",
        "tpl = (1, 2, 3, [1, 2, 3], \"Arif\")        # tuple (immutable)\n",
        "dct = {\"a\": 1, \"b\": 2, \"a\": 3} # dict (mapping)\n",
        "st = {1, 2, 2, 3, \"Arif\"}      # set (unique)\n",
        "lst.append(10)\n",
        "\n",
        "print(dct)\n",
        "print(ls2D)\n",
        "print(tpl)\n",
        "print(st)\n",
        "print(type(x), type(y), type(z), type(lst), type(tpl), type(dct), type(st))"
      ],
      "metadata": {
        "colab": {
          "base_uri": "https://localhost:8080/"
        },
        "id": "DxT-_Yw2ivTh",
        "outputId": "f4315d72-bdc5-406f-c909-63b1f3dab45e"
      },
      "execution_count": null,
      "outputs": [
        {
          "output_type": "stream",
          "name": "stdout",
          "text": [
            "{'a': 3, 'b': 2}\n",
            "[[1, 2, 3], [4, 5, 6]]\n",
            "(1, 2, 3, [1, 2, 3], 'Arif')\n",
            "{1, 2, 3, 'Arif'}\n",
            "<class 'int'> <class 'float'> <class 'str'> <class 'list'> <class 'tuple'> <class 'dict'> <class 'set'>\n"
          ]
        }
      ]
    },
    {
      "cell_type": "code",
      "source": [
        "s= [0, \"Hello\", [], None, [1]]\n",
        "print([bool(x) for x in s])"
      ],
      "metadata": {
        "colab": {
          "base_uri": "https://localhost:8080/"
        },
        "id": "0HCvqHkbpZX7",
        "outputId": "220330c2-dcd0-40b1-87a7-078eeba7d7c8"
      },
      "execution_count": null,
      "outputs": [
        {
          "output_type": "stream",
          "name": "stdout",
          "text": [
            "[False, True, False, False, True]\n"
          ]
        }
      ]
    }
  ]
}