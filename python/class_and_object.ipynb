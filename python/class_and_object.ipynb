{
  "nbformat": 4,
  "nbformat_minor": 0,
  "metadata": {
    "colab": {
      "provenance": [],
      "authorship_tag": "ABX9TyOsy628ocMfXFnGrvnHrrPh",
      "include_colab_link": true
    },
    "kernelspec": {
      "name": "python3",
      "display_name": "Python 3"
    },
    "language_info": {
      "name": "python"
    }
  },
  "cells": [
    {
      "cell_type": "markdown",
      "metadata": {
        "id": "view-in-github",
        "colab_type": "text"
      },
      "source": [
        "<a href=\"https://colab.research.google.com/github/Arghay013/machine-learning-start/blob/main/python/class_and_object.ipynb\" target=\"_parent\"><img src=\"https://colab.research.google.com/assets/colab-badge.svg\" alt=\"Open In Colab\"/></a>"
      ]
    },
    {
      "cell_type": "code",
      "execution_count": 1,
      "metadata": {
        "id": "ja3sagXDkuJ_"
      },
      "outputs": [],
      "source": [
        "# base class / parent class\n",
        "class Phone:\n",
        "  category = \"Electronics\"\n",
        "\n",
        "  # constructor\n",
        "\n",
        "  def __init__(self,model , battery , camera,battery_percentage=100):\n",
        "    self.model = model\n",
        "    self.battery = battery\n",
        "    self.camera = camera\n",
        "    self.battery_percentage = battery_percentage\n",
        "\n",
        "  # methods\n",
        "  def charge(self,hour):\n",
        "    print(f\"charge completed by {hour}\")\n",
        "\n",
        "  def capture(self,photo):\n",
        "    if(self.battery_percentage)<=0:\n",
        "      print(\"No charge\")\n",
        "    else:\n",
        "      self.battery_percentage-=photo\n",
        "      print(f\"photo captured in {self.model}\")\n",
        "\n",
        "\n",
        "\n",
        "class Cooling_Mechanism:\n",
        "  def __init__(self,cooling_method):\n",
        "    self.cooling_method= cooling_method\n",
        "\n",
        "\n",
        "  #methods\n",
        "  def cooling_on(self):\n",
        "    print(f\"the system is being cool by {self.cooling_method}\")"
      ]
    },
    {
      "cell_type": "code",
      "source": [
        "## creating object\n",
        "\n",
        "apple = Phone(\"Iphone17\",3000,40)\n",
        "blueberry = Phone(\"B-17\",4000,30)\n",
        "motorola = Phone(\"M-17\",3500,35)\n",
        "apple.capture(10)\n",
        "print(motorola.battery_percentage)"
      ],
      "metadata": {
        "colab": {
          "base_uri": "https://localhost:8080/"
        },
        "id": "nOkmQYnml1xF",
        "outputId": "dd7ed4a6-8e51-4241-849c-6af0bf6568d5"
      },
      "execution_count": 2,
      "outputs": [
        {
          "output_type": "stream",
          "name": "stdout",
          "text": [
            "photo captured in Iphone17\n",
            "100\n"
          ]
        }
      ]
    },
    {
      "cell_type": "markdown",
      "source": [
        "# Single Inheritance"
      ],
      "metadata": {
        "id": "99noPublnVfD"
      }
    },
    {
      "cell_type": "code",
      "source": [
        "# child / derived class\n",
        "class SmartPhone(Phone):\n",
        "  def __init__(self,model , battery , camera,processor):\n",
        "    super().__init__(model,battery,camera)\n",
        "    self.processor = processor\n",
        "\n",
        "   ## modified method\n",
        "  def charge(self,hour):\n",
        "    print(\"fast charging in process\")\n",
        "    super().charge(hour)\n"
      ],
      "metadata": {
        "id": "rFk53KX6nddy"
      },
      "execution_count": 4,
      "outputs": []
    },
    {
      "cell_type": "code",
      "source": [
        "pro = SmartPhone(\"X\",5000,100,\"SnapDragon\")\n",
        "\n",
        "print(pro.model)\n",
        "\n",
        "pro.charge(1)"
      ],
      "metadata": {
        "colab": {
          "base_uri": "https://localhost:8080/"
        },
        "id": "g1Vdzc47nhfy",
        "outputId": "8d1c09e9-2723-4680-c705-122c7c8952cc"
      },
      "execution_count": 5,
      "outputs": [
        {
          "output_type": "stream",
          "name": "stdout",
          "text": [
            "X\n",
            "fast charging in process\n",
            "charge completed by 1\n"
          ]
        }
      ]
    },
    {
      "cell_type": "markdown",
      "source": [
        "# Multiple Inheritance"
      ],
      "metadata": {
        "id": "ONDVjeUxnnx7"
      }
    },
    {
      "cell_type": "code",
      "source": [
        "class SmartPhone_CoolingMode(SmartPhone,Cooling_Mechanism):\n",
        "   def __init__(self,model , battery , camera,processor,cooling_method):\n",
        "    SmartPhone.__init__(self,model,battery,camera,processor)\n",
        "    Cooling_Mechanism.__init__(self,cooling_method)\n"
      ],
      "metadata": {
        "id": "ihHKjdnOno_D"
      },
      "execution_count": 6,
      "outputs": []
    },
    {
      "cell_type": "code",
      "source": [
        "pro_cooling = SmartPhone_CoolingMode(\"Y\",5000,100,\"SD\",\"Nitrogen\")\n",
        "\n",
        "print(pro_cooling.processor) # SmartPhone class theke\n",
        "print(pro_cooling.battery) # Phone class theke\n",
        "print(pro_cooling.cooling_method) # Cooling_Mechanism class theke\n",
        "print(pro_cooling.cooling_on()) # Cooling_Mechanism class er method\n",
        "print(pro_cooling.charge(1)) # SmartPhone er modified charge jeta Phone class theke inherited"
      ],
      "metadata": {
        "colab": {
          "base_uri": "https://localhost:8080/"
        },
        "id": "KM9crG9unw97",
        "outputId": "f6a3bee3-12a8-4978-ce73-d8597699f710"
      },
      "execution_count": 7,
      "outputs": [
        {
          "output_type": "stream",
          "name": "stdout",
          "text": [
            "SD\n",
            "5000\n",
            "Nitrogen\n",
            "the system is being cool by Nitrogen\n",
            "None\n",
            "fast charging in process\n",
            "charge completed by 1\n",
            "None\n"
          ]
        }
      ]
    },
    {
      "cell_type": "markdown",
      "source": [
        "# Polymorphsim"
      ],
      "metadata": {
        "id": "HMehX1afnzm7"
      }
    },
    {
      "cell_type": "code",
      "source": [
        "class Camera:\n",
        "  def __init__(self , name):\n",
        "    self.name = name\n",
        "\n",
        " # method\n",
        "  def capture(self):\n",
        "    print(\"a photo is captured\")"
      ],
      "metadata": {
        "id": "2SYZMcaqn20b"
      },
      "execution_count": 9,
      "outputs": []
    },
    {
      "cell_type": "code",
      "source": [
        "class Smart_Phone(Camera):\n",
        "  def __init__(self,name,resolution):\n",
        "    super().__init__(name)\n",
        "    self.resolution = resolution\n",
        "\n",
        "  #method overriding\n",
        "  def capture(self):\n",
        "    print(\"Photo is captured by a Phone\")\n",
        "\n",
        "\n",
        "class DSLR(Camera):\n",
        "  def __init__(self,name,resolution):\n",
        "    super().__init__(name)\n",
        "    self.resolution = resolution\n",
        "\n",
        "  def capture(self):\n",
        "    print(\"Photo is captured  by DSLR\")\n",
        "\n",
        "\n",
        "\n",
        "class Drone(Camera):\n",
        "  def __init__(self,name,resolution):\n",
        "    super().__init__(name)\n",
        "    self.resolution = resolution\n",
        "\n",
        "  def capture(self):\n",
        "    print(\"Photo is captured by Drone\")\n",
        "\n",
        "\n",
        "\n",
        "phone = Smart_Phone(\"Phone\",30)\n",
        "dslr = DSLR (\"DSLR\",200)\n",
        "drone = Drone(\"Drone\",150)\n",
        "\n",
        "\n",
        "phone.capture()\n",
        "dslr.capture()\n",
        "drone.capture()"
      ],
      "metadata": {
        "colab": {
          "base_uri": "https://localhost:8080/"
        },
        "id": "POwdSN1Tp8ay",
        "outputId": "1fcaa699-7ce9-418f-858e-cfc497efb3d2"
      },
      "execution_count": 10,
      "outputs": [
        {
          "output_type": "stream",
          "name": "stdout",
          "text": [
            "Photo is captured by a Phone\n",
            "Photo is captured  by DSLR\n",
            "Photo is captured by Drone\n"
          ]
        }
      ]
    },
    {
      "cell_type": "markdown",
      "source": [
        "# Encapsulation"
      ],
      "metadata": {
        "id": "wyM7CZZ4qEp8"
      }
    },
    {
      "cell_type": "code",
      "source": [
        "# design\n",
        "class Mobile:\n",
        "  def __init__(self,name,model,imei):\n",
        "    self.__name = name\n",
        "    self.__model = model\n",
        "    self.__imei = imei # private\n",
        "\n",
        "  def charge(self):\n",
        "    print(\"phone is charging\")\n",
        "\n",
        "  # method imei ta paite pari\n",
        "  def imei_getter(self):\n",
        "    return self.__imei\n",
        "  def model_getter(self):\n",
        "    return self.__model\n",
        "\n",
        "\n",
        "\n",
        "  def name_getter(self):\n",
        "    return self.__name\n",
        "\n",
        "\n",
        "  def name_setter(self,name):\n",
        "    self.__name = name\n",
        "\n",
        "\n",
        "\n",
        "\n",
        "\n",
        "\n",
        "\n",
        "#outside world ( user )\n",
        "\n",
        "# registration\n",
        "iphone = Mobile(\"Phone\",\"17\",\"1xkaf1\")\n",
        "\n",
        "print(iphone.name_getter())\n",
        "\n",
        "iphone.name_setter(\"Phitron\")\n",
        "\n",
        "\n",
        "print(iphone.name_getter())\n",
        "\n"
      ],
      "metadata": {
        "colab": {
          "base_uri": "https://localhost:8080/"
        },
        "id": "L7hFa7wJqBxT",
        "outputId": "0e3cc199-6c14-451d-915a-a1d11da74436"
      },
      "execution_count": 11,
      "outputs": [
        {
          "output_type": "stream",
          "name": "stdout",
          "text": [
            "Phone\n",
            "Phitron\n"
          ]
        }
      ]
    },
    {
      "cell_type": "markdown",
      "source": [
        "# Abstraction"
      ],
      "metadata": {
        "id": "yRNi8O3sqfo7"
      }
    },
    {
      "cell_type": "code",
      "source": [
        "from abc import  ABC , abstractmethod\n",
        "\n",
        "class Telephone(ABC):\n",
        "\n",
        "  @abstractmethod\n",
        "  def make_call(self):\n",
        "    pass\n",
        "\n",
        "\n",
        "\n",
        "class Sphone(Telephone):\n",
        "  def make_call(self):\n",
        "    print(\"Making a call using SPhone\")\n",
        "\n",
        "\n",
        "\n",
        "class Iphone(Telephone):\n",
        "   def make_call(self):\n",
        "    print(\"Making a call using IPhone\")\n"
      ],
      "metadata": {
        "id": "UgnDP9dTqJxj"
      },
      "execution_count": 12,
      "outputs": []
    },
    {
      "cell_type": "code",
      "source": [
        "ip = Iphone()\n",
        "\n",
        "ip.make_call()"
      ],
      "metadata": {
        "colab": {
          "base_uri": "https://localhost:8080/"
        },
        "id": "k6OjUj0cqm-8",
        "outputId": "06eb2625-8454-40a7-afe2-f33d03a2a344"
      },
      "execution_count": 13,
      "outputs": [
        {
          "output_type": "stream",
          "name": "stdout",
          "text": [
            "Making a call using IPhone\n"
          ]
        }
      ]
    }
  ]
}