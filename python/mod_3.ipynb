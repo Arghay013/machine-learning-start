{
  "nbformat": 4,
  "nbformat_minor": 0,
  "metadata": {
    "colab": {
      "provenance": [],
      "authorship_tag": "ABX9TyN7CdogOqkod0KmO1rFaX8b",
      "include_colab_link": true
    },
    "kernelspec": {
      "name": "python3",
      "display_name": "Python 3"
    },
    "language_info": {
      "name": "python"
    }
  },
  "cells": [
    {
      "cell_type": "markdown",
      "metadata": {
        "id": "view-in-github",
        "colab_type": "text"
      },
      "source": [
        "<a href=\"https://colab.research.google.com/github/Arghay013/machine-learning-start/blob/main/python/mod_3.ipynb\" target=\"_parent\"><img src=\"https://colab.research.google.com/assets/colab-badge.svg\" alt=\"Open In Colab\"/></a>"
      ]
    },
    {
      "cell_type": "code",
      "execution_count": null,
      "metadata": {
        "colab": {
          "base_uri": "https://localhost:8080/"
        },
        "id": "BLBvf-Q4bcgM",
        "outputId": "b669fd03-1773-4c66-fd13-6a33bb12ca2e"
      },
      "outputs": [
        {
          "output_type": "stream",
          "name": "stdout",
          "text": [
            "What is your name?\n",
            "<class 'str'>\n"
          ]
        }
      ],
      "source": [
        "prompt = \"What is your name?\"\n",
        "print(prompt)\n",
        "print(type(prompt))"
      ]
    },
    {
      "cell_type": "code",
      "source": [
        "message = \"\"\"i am a student\n",
        "            who are you?\n",
        "            do you know me?\"\"\"\n",
        "print (message)"
      ],
      "metadata": {
        "colab": {
          "base_uri": "https://localhost:8080/"
        },
        "id": "oZJnV8jEdibC",
        "outputId": "b455317c-4d2b-480c-bbb2-3d1d7f65ffe8"
      },
      "execution_count": null,
      "outputs": [
        {
          "output_type": "stream",
          "name": "stdout",
          "text": [
            "i am a student\n",
            "            who are you?\n",
            "            do you know me?\n"
          ]
        }
      ]
    },
    {
      "cell_type": "markdown",
      "source": [
        "## Indexing and slicing\n"
      ],
      "metadata": {
        "id": "jGu42bTq2Pb4"
      }
    },
    {
      "cell_type": "code",
      "source": [
        "message = \"\"\"i am a student\n",
        "            who are you?\n",
        "            do you know me?\"\"\"\n",
        "msg = message[0:14]\n",
        "msg = msg[::-1]\n",
        "print (msg)"
      ],
      "metadata": {
        "colab": {
          "base_uri": "https://localhost:8080/"
        },
        "id": "kbAbvyeQ2atP",
        "outputId": "1a9a1f01-9a6e-4cb7-90ad-aee994265a7f"
      },
      "execution_count": null,
      "outputs": [
        {
          "output_type": "stream",
          "name": "stdout",
          "text": [
            "tneduts a ma i\n"
          ]
        }
      ]
    },
    {
      "cell_type": "markdown",
      "source": [
        "## String methods"
      ],
      "metadata": {
        "id": "XWTwBwky6AWH"
      }
    },
    {
      "cell_type": "code",
      "source": [
        "string  = \"Welcome to Phitron ML Course , Phitron ML , Hello ML\"\n",
        "\n",
        "processed_string = string.lower()\n",
        "\n",
        "\n",
        "# length\n",
        "print(len(string))\n",
        "\n",
        "# word ase kina -> bool\n",
        "print(\"phitron\" in processed_string)\n",
        "\n",
        "# shurur kon index theke substring ta shuru hoise\n",
        "\n",
        "shuru_index = processed_string.find(\"phitron\")\n",
        "\n",
        "# shesher dike kon index theke substring ta shuru hoise\n",
        "shesh_index = processed_string.rfind(\"phitron\")\n",
        "\n",
        "\n",
        "## Substring koibar ase\n",
        "\n",
        "count = processed_string.count(\"phitron\")\n",
        "\n",
        "\n",
        "\n",
        "## replace a substring\n",
        "\n",
        "processed_string = string.replace(\"ML\", \"AI/ML\")\n",
        "\n",
        "\n",
        "print(processed_string)"
      ],
      "metadata": {
        "colab": {
          "base_uri": "https://localhost:8080/"
        },
        "id": "9MLljYVP6F3s",
        "outputId": "109a036e-e889-4550-e905-2819a89f94db"
      },
      "execution_count": null,
      "outputs": [
        {
          "output_type": "stream",
          "name": "stdout",
          "text": [
            "52\n",
            "True\n",
            "Welcome to Phitron AI/ML Course , Phitron AI/ML , Hello AI/ML\n"
          ]
        }
      ]
    },
    {
      "cell_type": "markdown",
      "source": [
        "# Splitting , Joining , Formatted String"
      ],
      "metadata": {
        "id": "XCZyizF9CpS3"
      }
    },
    {
      "cell_type": "code",
      "source": [
        "prompt = \"what is Phitron ?\"\n",
        "tokens = prompt.split()\n",
        "\n",
        "print(type(tokens))\n",
        "\n",
        "new = \" \".join(tokens)\n",
        "print(new)\n",
        "name = \"Adil\"\n",
        "age = 23\n",
        "height = 5.1123445\n",
        "\n",
        "info = f\"His name is {name.upper()}. He is {age} years old. He is {height:.3} feet tall.\\n\"\n",
        "\n",
        "\n",
        "\n",
        "model_accuracy = 0.83333\n",
        "\n",
        "print(f\"the model accuracy is {model_accuracy}\")"
      ],
      "metadata": {
        "colab": {
          "base_uri": "https://localhost:8080/"
        },
        "id": "uk-_tNq_CrOU",
        "outputId": "8e13aa65-455c-4159-9d6f-8cb72db511aa"
      },
      "execution_count": null,
      "outputs": [
        {
          "output_type": "stream",
          "name": "stdout",
          "text": [
            "<class 'list'>\n",
            "what is Phitron ?\n"
          ]
        }
      ]
    },
    {
      "cell_type": "markdown",
      "source": [
        "# List as Stack"
      ],
      "metadata": {
        "id": "m8DcPaQbVrpm"
      }
    },
    {
      "cell_type": "code",
      "source": [
        "stack =[]\n",
        "\n",
        "# stack e push\n",
        "stack.append(1)\n",
        "stack.append(2)\n",
        "stack.append(3)\n",
        "stack.append(4)\n",
        "stack.append(5)\n",
        "\n",
        "\n",
        "print(f\"top element : {stack[-1]}\")\n",
        "# removing the top element\n",
        "stack.pop()\n",
        "\n",
        "# top element\n",
        "print(f\"top element : {stack[-1]}\")"
      ],
      "metadata": {
        "colab": {
          "base_uri": "https://localhost:8080/"
        },
        "id": "tTvATC4KVuoM",
        "outputId": "6270238c-8cb1-4749-ee79-6d33b6df9262"
      },
      "execution_count": null,
      "outputs": [
        {
          "output_type": "stream",
          "name": "stdout",
          "text": [
            "top element : 5\n",
            "top element : 4\n"
          ]
        }
      ]
    },
    {
      "cell_type": "markdown",
      "source": [
        "\n",
        "# List as Queue"
      ],
      "metadata": {
        "id": "1bFq9AIzgS-F"
      }
    },
    {
      "cell_type": "code",
      "source": [
        "queue = []\n",
        "\n",
        "# insertion\n",
        "queue.append(1)\n",
        "queue.append(2)\n",
        "queue.append(3)\n",
        "queue.append(4)\n",
        "queue.append(5)\n",
        "\n",
        "\n",
        "#remove\n",
        "print(queue.pop(0))\n",
        "\n",
        "\n",
        "# accessing the front element\n",
        "\n",
        "print(f\"front e {queue[0]}\")\n",
        "\n",
        "queue.pop(0)\n",
        "\n",
        "print(f\"front e {queue[0]}\")"
      ],
      "metadata": {
        "colab": {
          "base_uri": "https://localhost:8080/"
        },
        "id": "ufsNuxvigYUl",
        "outputId": "72f82f01-c312-4a29-fff2-d45f86b5e4fe"
      },
      "execution_count": null,
      "outputs": [
        {
          "output_type": "stream",
          "name": "stdout",
          "text": [
            "1\n",
            "front e 2\n",
            "front e 3\n"
          ]
        }
      ]
    },
    {
      "cell_type": "markdown",
      "source": [
        "# **list comprehension**"
      ],
      "metadata": {
        "id": "MWUib4Avh0w0"
      }
    },
    {
      "cell_type": "code",
      "source": [
        "even = []\n",
        "#naive\n",
        "# for i in range(101):\n",
        "#     if i%2==0:\n",
        "#         even.append(i)\n",
        "\n",
        "#print(even)\n",
        "\n",
        "\n",
        "random_list = [x+10 for x in range(1,101) if x%2!=0]\n",
        "\n",
        "print(random_list)"
      ],
      "metadata": {
        "colab": {
          "base_uri": "https://localhost:8080/"
        },
        "id": "g9JtLX6Jh3nc",
        "outputId": "ef57b32d-6c71-45a5-a5bd-db096baac66a"
      },
      "execution_count": null,
      "outputs": [
        {
          "output_type": "stream",
          "name": "stdout",
          "text": [
            "[11, 13, 15, 17, 19, 21, 23, 25, 27, 29, 31, 33, 35, 37, 39, 41, 43, 45, 47, 49, 51, 53, 55, 57, 59, 61, 63, 65, 67, 69, 71, 73, 75, 77, 79, 81, 83, 85, 87, 89, 91, 93, 95, 97, 99, 101, 103, 105, 107, 109]\n"
          ]
        }
      ]
    },
    {
      "cell_type": "code",
      "source": [
        "fruits = ['APPLE' , 'ORange' , 'liCHi']\n",
        "\n",
        "upper_fruits=[fruit.lower() for fruit in fruits]\n",
        "\n",
        "\n",
        "print(upper_fruits)"
      ],
      "metadata": {
        "colab": {
          "base_uri": "https://localhost:8080/"
        },
        "id": "arwdKc5kj2PU",
        "outputId": "b3c08d17-76f2-4ad6-b168-0d95fc79837b"
      },
      "execution_count": null,
      "outputs": [
        {
          "output_type": "stream",
          "name": "stdout",
          "text": [
            "['apple', 'orange', 'lichi']\n"
          ]
        }
      ]
    },
    {
      "cell_type": "code",
      "source": [
        "msg = \"red,green,blue\"\n",
        "colors = msg.split(\",\")\n",
        "colors[::-1]"
      ],
      "metadata": {
        "colab": {
          "base_uri": "https://localhost:8080/"
        },
        "id": "RNipZRxRprsW",
        "outputId": "5ddbc89f-5160-4ed7-a0c5-c253429af1c9"
      },
      "execution_count": null,
      "outputs": [
        {
          "output_type": "execute_result",
          "data": {
            "text/plain": [
              "['blue', 'green', 'red']"
            ]
          },
          "metadata": {},
          "execution_count": 15
        }
      ]
    },
    {
      "cell_type": "code",
      "source": [
        "nums = [2,4,6,8,10]\n",
        "nums[2] = nums[2] * nums[0]\n",
        "print(nums)"
      ],
      "metadata": {
        "colab": {
          "base_uri": "https://localhost:8080/"
        },
        "id": "q4R3BOajqyzt",
        "outputId": "f68b3042-9728-4f93-bef7-ed87f55e9eba"
      },
      "execution_count": null,
      "outputs": [
        {
          "output_type": "stream",
          "name": "stdout",
          "text": [
            "[2, 4, 12, 8, 10]\n"
          ]
        }
      ]
    },
    {
      "cell_type": "code",
      "source": [
        "letters = ['a', 'b', 'c', 'd', 'e']\n",
        "print(letters[1:4][::-2])"
      ],
      "metadata": {
        "colab": {
          "base_uri": "https://localhost:8080/"
        },
        "id": "KCJkeIn0rCj8",
        "outputId": "c28ea9aa-5500-40b9-d6cc-21281e1fead4"
      },
      "execution_count": null,
      "outputs": [
        {
          "output_type": "stream",
          "name": "stdout",
          "text": [
            "['d', 'b']\n"
          ]
        }
      ]
    }
  ]
}