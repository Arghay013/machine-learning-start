{
  "nbformat": 4,
  "nbformat_minor": 0,
  "metadata": {
    "colab": {
      "provenance": [],
      "authorship_tag": "ABX9TyM5ojAQFM0Z0hymvBOr8PY7",
      "include_colab_link": true
    },
    "kernelspec": {
      "name": "python3",
      "display_name": "Python 3"
    },
    "language_info": {
      "name": "python"
    }
  },
  "cells": [
    {
      "cell_type": "markdown",
      "metadata": {
        "id": "view-in-github",
        "colab_type": "text"
      },
      "source": [
        "<a href=\"https://colab.research.google.com/github/Arghay013/machine-learning-start/blob/main/numpy/data_analysis_with_numpy_2.ipynb\" target=\"_parent\"><img src=\"https://colab.research.google.com/assets/colab-badge.svg\" alt=\"Open In Colab\"/></a>"
      ]
    },
    {
      "cell_type": "code",
      "execution_count": 11,
      "metadata": {
        "id": "kp4ApSXIJfIC"
      },
      "outputs": [],
      "source": [
        "import numpy as np\n",
        "\n",
        "arr = np.random.randint(1 ,100 , size =(10,5)) # sample - 10 , feature - 5"
      ]
    },
    {
      "cell_type": "code",
      "source": [
        "arr.shape"
      ],
      "metadata": {
        "colab": {
          "base_uri": "https://localhost:8080/"
        },
        "id": "TS1KR0G3Jmos",
        "outputId": "4c41468f-e227-4a35-e390-26bf97051521"
      },
      "execution_count": 12,
      "outputs": [
        {
          "output_type": "execute_result",
          "data": {
            "text/plain": [
              "(10, 5)"
            ]
          },
          "metadata": {},
          "execution_count": 12
        }
      ]
    },
    {
      "cell_type": "code",
      "source": [
        "b = arr.reshape(5,10)\n",
        "\n",
        "# b.shape\n",
        "# b.ndim\n",
        "b"
      ],
      "metadata": {
        "colab": {
          "base_uri": "https://localhost:8080/"
        },
        "id": "-FbH5THoJqBU",
        "outputId": "967ac3d5-dbd7-449d-92af-cfb6c355d83e"
      },
      "execution_count": 13,
      "outputs": [
        {
          "output_type": "execute_result",
          "data": {
            "text/plain": [
              "array([[12, 10, 66, 52, 19, 53, 42, 73, 19, 78],\n",
              "       [21, 99, 88, 17, 41, 47, 66, 98, 71,  1],\n",
              "       [60, 73, 53, 60, 82, 67, 72, 15, 59,  1],\n",
              "       [98, 73, 73, 87, 76, 30, 34, 26, 73, 23],\n",
              "       [33, 49, 77,  1, 22, 80, 64, 68,  9, 57]])"
            ]
          },
          "metadata": {},
          "execution_count": 13
        }
      ]
    },
    {
      "cell_type": "code",
      "source": [
        "flatten = b.flatten()\n",
        "print(flatten.ndim)\n",
        "flatten\n",
        "\n",
        "column_wise_flattening = np.ravel(b,order= 'C')\n",
        "\n",
        "print(column_wise_flattening)"
      ],
      "metadata": {
        "colab": {
          "base_uri": "https://localhost:8080/"
        },
        "id": "1SiuDrQNJzOc",
        "outputId": "f46941ea-6711-4845-937d-aa6645409c54"
      },
      "execution_count": 14,
      "outputs": [
        {
          "output_type": "stream",
          "name": "stdout",
          "text": [
            "1\n",
            "[12 10 66 52 19 53 42 73 19 78 21 99 88 17 41 47 66 98 71  1 60 73 53 60\n",
            " 82 67 72 15 59  1 98 73 73 87 76 30 34 26 73 23 33 49 77  1 22 80 64 68\n",
            "  9 57]\n"
          ]
        }
      ]
    },
    {
      "cell_type": "markdown",
      "source": [
        "#### reshape die 1 dimentional theke multidimentional kore\n",
        "#### flatten and ravel die one dimentional kore\n"
      ],
      "metadata": {
        "id": "WkJBGCCFJ_Nc"
      }
    },
    {
      "cell_type": "code",
      "source": [
        "a = np.random.randint(1 ,10 , size =(2,3))\n",
        "b = np.random.randint(20 ,30 , size =(2,3))"
      ],
      "metadata": {
        "id": "JYBerdtBJ79T"
      },
      "execution_count": 15,
      "outputs": []
    },
    {
      "cell_type": "markdown",
      "source": [
        "### concatinate"
      ],
      "metadata": {
        "id": "Cv587wZ5KdxU"
      }
    },
    {
      "cell_type": "code",
      "source": [
        "con_row = np.concatenate((a,b),axis=0) # row wise\n",
        "\n",
        "print(con_row)\n",
        "\n",
        "con_col = np.concatenate((a,b), axis = 1) # column wise\n",
        "\n",
        "print(con_col)"
      ],
      "metadata": {
        "colab": {
          "base_uri": "https://localhost:8080/"
        },
        "id": "3suLjstHKgiD",
        "outputId": "48b0e801-fd36-42db-f101-5c7954bfd868"
      },
      "execution_count": 16,
      "outputs": [
        {
          "output_type": "stream",
          "name": "stdout",
          "text": [
            "[[ 4  8  9]\n",
            " [ 6  7  9]\n",
            " [23 27 28]\n",
            " [21 25 21]]\n",
            "[[ 4  8  9 23 27 28]\n",
            " [ 6  7  9 21 25 21]]\n"
          ]
        }
      ]
    },
    {
      "cell_type": "code",
      "source": [
        "# error\n",
        "\n",
        "# row wise concetanate korar shomoi column same thakbe\n",
        "# col wise concat korar shomoi row ta same thakte hobe\n",
        "\n",
        "x = np.random.randint(1 ,10 , size =(2,3))\n",
        "y = np.random.randint(1 ,10 , size =(1,3))\n",
        "\n",
        "r = np.concatenate((x,y),axis =0 )\n",
        "r = np.concatenate((x,y),axis =1 )\n",
        "print(r)"
      ],
      "metadata": {
        "colab": {
          "base_uri": "https://localhost:8080/",
          "height": 228
        },
        "id": "Q9jupEzWKlCL",
        "outputId": "066724d7-15af-467f-f614-c3dead5cbd88"
      },
      "execution_count": 17,
      "outputs": [
        {
          "output_type": "error",
          "ename": "ValueError",
          "evalue": "all the input array dimensions except for the concatenation axis must match exactly, but along dimension 0, the array at index 0 has size 2 and the array at index 1 has size 1",
          "traceback": [
            "\u001b[0;31m---------------------------------------------------------------------------\u001b[0m",
            "\u001b[0;31mValueError\u001b[0m                                Traceback (most recent call last)",
            "\u001b[0;32m/tmp/ipython-input-232082735.py\u001b[0m in \u001b[0;36m<cell line: 0>\u001b[0;34m()\u001b[0m\n\u001b[1;32m      8\u001b[0m \u001b[0;34m\u001b[0m\u001b[0m\n\u001b[1;32m      9\u001b[0m \u001b[0mr\u001b[0m \u001b[0;34m=\u001b[0m \u001b[0mnp\u001b[0m\u001b[0;34m.\u001b[0m\u001b[0mconcatenate\u001b[0m\u001b[0;34m(\u001b[0m\u001b[0;34m(\u001b[0m\u001b[0mx\u001b[0m\u001b[0;34m,\u001b[0m\u001b[0my\u001b[0m\u001b[0;34m)\u001b[0m\u001b[0;34m,\u001b[0m\u001b[0maxis\u001b[0m \u001b[0;34m=\u001b[0m\u001b[0;36m0\u001b[0m \u001b[0;34m)\u001b[0m\u001b[0;34m\u001b[0m\u001b[0;34m\u001b[0m\u001b[0m\n\u001b[0;32m---> 10\u001b[0;31m \u001b[0mr\u001b[0m \u001b[0;34m=\u001b[0m \u001b[0mnp\u001b[0m\u001b[0;34m.\u001b[0m\u001b[0mconcatenate\u001b[0m\u001b[0;34m(\u001b[0m\u001b[0;34m(\u001b[0m\u001b[0mx\u001b[0m\u001b[0;34m,\u001b[0m\u001b[0my\u001b[0m\u001b[0;34m)\u001b[0m\u001b[0;34m,\u001b[0m\u001b[0maxis\u001b[0m \u001b[0;34m=\u001b[0m\u001b[0;36m1\u001b[0m \u001b[0;34m)\u001b[0m\u001b[0;34m\u001b[0m\u001b[0;34m\u001b[0m\u001b[0m\n\u001b[0m\u001b[1;32m     11\u001b[0m \u001b[0mprint\u001b[0m\u001b[0;34m(\u001b[0m\u001b[0mr\u001b[0m\u001b[0;34m)\u001b[0m\u001b[0;34m\u001b[0m\u001b[0;34m\u001b[0m\u001b[0m\n",
            "\u001b[0;31mValueError\u001b[0m: all the input array dimensions except for the concatenation axis must match exactly, but along dimension 0, the array at index 0 has size 2 and the array at index 1 has size 1"
          ]
        }
      ]
    },
    {
      "cell_type": "markdown",
      "source": [
        "### transpose"
      ],
      "metadata": {
        "id": "XcaZOUIbKsXT"
      }
    },
    {
      "cell_type": "code",
      "source": [
        "# transpose\n",
        "\n",
        "mat = np.array([[10,20,30],\n",
        "                [30,40,50]\n",
        "               ])\n",
        "\n",
        "\n",
        "transpose = mat.T\n",
        "\n",
        "print(transpose)"
      ],
      "metadata": {
        "colab": {
          "base_uri": "https://localhost:8080/"
        },
        "id": "EWxyZ5nNKpHc",
        "outputId": "c2c4f8c1-e49a-4b3b-b729-406309a4659f"
      },
      "execution_count": 18,
      "outputs": [
        {
          "output_type": "stream",
          "name": "stdout",
          "text": [
            "[[10 30]\n",
            " [20 40]\n",
            " [30 50]]\n"
          ]
        }
      ]
    },
    {
      "cell_type": "markdown",
      "source": [
        "### array split"
      ],
      "metadata": {
        "id": "ECiSBmPgLIZc"
      }
    },
    {
      "cell_type": "code",
      "source": [
        "a = np.random.randint(1 ,9 , size =(10,))\n",
        "print(a)\n",
        "splitted_array = np.array_split(a,3)\n",
        "\n",
        "print(splitted_array)\n",
        "\n",
        "# split -> equal division\n",
        "splitted_array = np.split(a,3)"
      ],
      "metadata": {
        "colab": {
          "base_uri": "https://localhost:8080/",
          "height": 367
        },
        "id": "dLAOd7qdLYC6",
        "outputId": "ab6acee7-9fe5-41c4-bae9-8000a1a89497"
      },
      "execution_count": 19,
      "outputs": [
        {
          "output_type": "stream",
          "name": "stdout",
          "text": [
            "[1 8 7 1 5 5 3 2 2 2]\n",
            "[array([1, 8, 7, 1]), array([5, 5, 3]), array([2, 2, 2])]\n"
          ]
        },
        {
          "output_type": "error",
          "ename": "ValueError",
          "evalue": "array split does not result in an equal division",
          "traceback": [
            "\u001b[0;31m---------------------------------------------------------------------------\u001b[0m",
            "\u001b[0;31mValueError\u001b[0m                                Traceback (most recent call last)",
            "\u001b[0;32m/tmp/ipython-input-2649540022.py\u001b[0m in \u001b[0;36m<cell line: 0>\u001b[0;34m()\u001b[0m\n\u001b[1;32m      6\u001b[0m \u001b[0;34m\u001b[0m\u001b[0m\n\u001b[1;32m      7\u001b[0m \u001b[0;31m# split -> equal division\u001b[0m\u001b[0;34m\u001b[0m\u001b[0;34m\u001b[0m\u001b[0m\n\u001b[0;32m----> 8\u001b[0;31m \u001b[0msplitted_array\u001b[0m \u001b[0;34m=\u001b[0m \u001b[0mnp\u001b[0m\u001b[0;34m.\u001b[0m\u001b[0msplit\u001b[0m\u001b[0;34m(\u001b[0m\u001b[0ma\u001b[0m\u001b[0;34m,\u001b[0m\u001b[0;36m3\u001b[0m\u001b[0;34m)\u001b[0m\u001b[0;34m\u001b[0m\u001b[0;34m\u001b[0m\u001b[0m\n\u001b[0m",
            "\u001b[0;32m/usr/local/lib/python3.12/dist-packages/numpy/lib/_shape_base_impl.py\u001b[0m in \u001b[0;36msplit\u001b[0;34m(ary, indices_or_sections, axis)\u001b[0m\n\u001b[1;32m    872\u001b[0m         \u001b[0mN\u001b[0m \u001b[0;34m=\u001b[0m \u001b[0mary\u001b[0m\u001b[0;34m.\u001b[0m\u001b[0mshape\u001b[0m\u001b[0;34m[\u001b[0m\u001b[0maxis\u001b[0m\u001b[0;34m]\u001b[0m\u001b[0;34m\u001b[0m\u001b[0;34m\u001b[0m\u001b[0m\n\u001b[1;32m    873\u001b[0m         \u001b[0;32mif\u001b[0m \u001b[0mN\u001b[0m \u001b[0;34m%\u001b[0m \u001b[0msections\u001b[0m\u001b[0;34m:\u001b[0m\u001b[0;34m\u001b[0m\u001b[0;34m\u001b[0m\u001b[0m\n\u001b[0;32m--> 874\u001b[0;31m             raise ValueError(\n\u001b[0m\u001b[1;32m    875\u001b[0m                 'array split does not result in an equal division') from None\n\u001b[1;32m    876\u001b[0m     \u001b[0;32mreturn\u001b[0m \u001b[0marray_split\u001b[0m\u001b[0;34m(\u001b[0m\u001b[0mary\u001b[0m\u001b[0;34m,\u001b[0m \u001b[0mindices_or_sections\u001b[0m\u001b[0;34m,\u001b[0m \u001b[0maxis\u001b[0m\u001b[0;34m)\u001b[0m\u001b[0;34m\u001b[0m\u001b[0;34m\u001b[0m\u001b[0m\n",
            "\u001b[0;31mValueError\u001b[0m: array split does not result in an equal division"
          ]
        }
      ]
    },
    {
      "cell_type": "markdown",
      "source": [
        "## arithmetic operator and mathematical functions"
      ],
      "metadata": {
        "id": "Oh3NMqPAOILr"
      }
    },
    {
      "cell_type": "code",
      "source": [
        "# faster for vectorization\n",
        "\n",
        "x = np.array([ 10 , 8 , 30 , 100 ])\n",
        "y = np.array([ 2 , 3 ,4  ,5 ])\n",
        "\n",
        "add = np.add(x,y)\n",
        "print(add)\n",
        "\n",
        "sub = x-y\n",
        "print(sub)\n",
        "\n",
        "mul = x*y\n",
        "print(mul)\n",
        "\n",
        "div = x/y\n",
        "print(div)\n",
        "\n",
        "remainder = x % y\n",
        "\n",
        "print(remainder)"
      ],
      "metadata": {
        "colab": {
          "base_uri": "https://localhost:8080/"
        },
        "id": "NCPq1xn5OLEz",
        "outputId": "3b0f9061-0311-4a66-e876-c609ab94ee58"
      },
      "execution_count": 20,
      "outputs": [
        {
          "output_type": "stream",
          "name": "stdout",
          "text": [
            "[ 12  11  34 105]\n",
            "[ 8  5 26 95]\n",
            "[ 20  24 120 500]\n",
            "[ 5.          2.66666667  7.5        20.        ]\n",
            "[0 2 2 0]\n"
          ]
        }
      ]
    },
    {
      "cell_type": "markdown",
      "source": [
        "# mathematical function"
      ],
      "metadata": {
        "id": "rAlDYAccq9bj"
      }
    },
    {
      "cell_type": "code",
      "source": [
        " # trigonometry\n",
        "\n",
        "# sin , cos , tan takes values in radian\n",
        "\n",
        "sin_val = np.sin(x)\n",
        "print(sin_val)\n",
        "\n",
        "cos_val = np.cos(x)\n",
        "print(cos_val)\n",
        "\n",
        "deg_con = np.rad2deg(x)\n",
        "print(deg_con)\n",
        "\n",
        "# deg2rad"
      ],
      "metadata": {
        "colab": {
          "base_uri": "https://localhost:8080/"
        },
        "id": "HEvqXYuTOL96",
        "outputId": "6a915b31-d10f-4c4b-f500-30467a5902db"
      },
      "execution_count": 21,
      "outputs": [
        {
          "output_type": "stream",
          "name": "stdout",
          "text": [
            "[-0.54402111  0.98935825 -0.98803162 -0.50636564]\n",
            "[-0.83907153 -0.14550003  0.15425145  0.86231887]\n",
            "[ 572.95779513  458.3662361  1718.87338539 5729.57795131]\n"
          ]
        }
      ]
    },
    {
      "cell_type": "code",
      "source": [
        "#log\n",
        "\n",
        "x = np.array([ 10 , 8 , 16 , 100 ])\n",
        "base_10_log_val = np.log10(x)\n",
        "print(base_10_log_val)\n",
        "\n",
        "\n",
        "two_diye_bhag = np.log2(x)\n",
        "print(two_diye_bhag)\n",
        "\n",
        "sqrt= np.sqrt(x)\n",
        "print(sqrt)"
      ],
      "metadata": {
        "colab": {
          "base_uri": "https://localhost:8080/"
        },
        "id": "91j6SQwqrK5n",
        "outputId": "2215e2fc-bf10-4a95-92d2-9d74816e4aa3"
      },
      "execution_count": 22,
      "outputs": [
        {
          "output_type": "stream",
          "name": "stdout",
          "text": [
            "[1.         0.90308999 1.20411998 2.        ]\n",
            "[3.32192809 3.         4.         6.64385619]\n",
            "[ 3.16227766  2.82842712  4.         10.        ]\n"
          ]
        }
      ]
    },
    {
      "cell_type": "code",
      "source": [
        "# different\n",
        "s = np.sum(x)\n",
        "print(s)\n",
        "\n",
        "#prefix sum\n",
        "cumul =np.cumulative_sum(x)\n",
        "print(cumul)"
      ],
      "metadata": {
        "colab": {
          "base_uri": "https://localhost:8080/",
          "height": 332
        },
        "id": "ePT2WvUxrNn8",
        "outputId": "43ebe494-a43b-40e2-b504-7a8ed3b2ba6e"
      },
      "execution_count": 23,
      "outputs": [
        {
          "output_type": "stream",
          "name": "stdout",
          "text": [
            "134\n"
          ]
        },
        {
          "output_type": "error",
          "ename": "AttributeError",
          "evalue": "module 'numpy' has no attribute 'cumulative_sum'",
          "traceback": [
            "\u001b[0;31m---------------------------------------------------------------------------\u001b[0m",
            "\u001b[0;31mAttributeError\u001b[0m                            Traceback (most recent call last)",
            "\u001b[0;32m/tmp/ipython-input-3098691829.py\u001b[0m in \u001b[0;36m<cell line: 0>\u001b[0;34m()\u001b[0m\n\u001b[1;32m      4\u001b[0m \u001b[0;34m\u001b[0m\u001b[0m\n\u001b[1;32m      5\u001b[0m \u001b[0;31m#prefix sum\u001b[0m\u001b[0;34m\u001b[0m\u001b[0;34m\u001b[0m\u001b[0m\n\u001b[0;32m----> 6\u001b[0;31m \u001b[0mcumul\u001b[0m \u001b[0;34m=\u001b[0m\u001b[0mnp\u001b[0m\u001b[0;34m.\u001b[0m\u001b[0mcumulative_sum\u001b[0m\u001b[0;34m(\u001b[0m\u001b[0mx\u001b[0m\u001b[0;34m)\u001b[0m\u001b[0;34m\u001b[0m\u001b[0;34m\u001b[0m\u001b[0m\n\u001b[0m\u001b[1;32m      7\u001b[0m \u001b[0mprint\u001b[0m\u001b[0;34m(\u001b[0m\u001b[0mcumul\u001b[0m\u001b[0;34m)\u001b[0m\u001b[0;34m\u001b[0m\u001b[0;34m\u001b[0m\u001b[0m\n",
            "\u001b[0;32m/usr/local/lib/python3.12/dist-packages/numpy/__init__.py\u001b[0m in \u001b[0;36m__getattr__\u001b[0;34m(attr)\u001b[0m\n\u001b[1;32m    408\u001b[0m             \u001b[0;32mreturn\u001b[0m \u001b[0mchar\u001b[0m\u001b[0;34m.\u001b[0m\u001b[0mchararray\u001b[0m\u001b[0;34m\u001b[0m\u001b[0;34m\u001b[0m\u001b[0m\n\u001b[1;32m    409\u001b[0m \u001b[0;34m\u001b[0m\u001b[0m\n\u001b[0;32m--> 410\u001b[0;31m         raise AttributeError(\"module {!r} has no attribute \"\n\u001b[0m\u001b[1;32m    411\u001b[0m                              \"{!r}\".format(__name__, attr))\n\u001b[1;32m    412\u001b[0m \u001b[0;34m\u001b[0m\u001b[0m\n",
            "\u001b[0;31mAttributeError\u001b[0m: module 'numpy' has no attribute 'cumulative_sum'"
          ]
        }
      ]
    },
    {
      "cell_type": "code",
      "source": [
        "#broadcasting\n",
        "\n",
        "x = np.array([ 10 , 8 , 16 , 100 ])\n",
        "\n",
        "result = x + 2\n",
        "\n",
        "#rulings = columns er size and vector er size same hote hobe\n",
        "\n",
        "matrix = np.array([[10,20,30],\n",
        "                [30,40,50]\n",
        "               ])\n",
        "\n",
        "\n",
        "result = matrix + 2\n",
        "\n",
        "vector = np.array([1,2,3,4])\n",
        "\n",
        "result = matrix +vector\n",
        "print(result)"
      ],
      "metadata": {
        "colab": {
          "base_uri": "https://localhost:8080/",
          "height": 193
        },
        "id": "zS8uUttMrQab",
        "outputId": "5047efb4-a203-4835-c160-ace26ccaffe0"
      },
      "execution_count": 24,
      "outputs": [
        {
          "output_type": "error",
          "ename": "ValueError",
          "evalue": "operands could not be broadcast together with shapes (2,3) (4,) ",
          "traceback": [
            "\u001b[0;31m---------------------------------------------------------------------------\u001b[0m",
            "\u001b[0;31mValueError\u001b[0m                                Traceback (most recent call last)",
            "\u001b[0;32m/tmp/ipython-input-3602322510.py\u001b[0m in \u001b[0;36m<cell line: 0>\u001b[0;34m()\u001b[0m\n\u001b[1;32m     16\u001b[0m \u001b[0mvector\u001b[0m \u001b[0;34m=\u001b[0m \u001b[0mnp\u001b[0m\u001b[0;34m.\u001b[0m\u001b[0marray\u001b[0m\u001b[0;34m(\u001b[0m\u001b[0;34m[\u001b[0m\u001b[0;36m1\u001b[0m\u001b[0;34m,\u001b[0m\u001b[0;36m2\u001b[0m\u001b[0;34m,\u001b[0m\u001b[0;36m3\u001b[0m\u001b[0;34m,\u001b[0m\u001b[0;36m4\u001b[0m\u001b[0;34m]\u001b[0m\u001b[0;34m)\u001b[0m\u001b[0;34m\u001b[0m\u001b[0;34m\u001b[0m\u001b[0m\n\u001b[1;32m     17\u001b[0m \u001b[0;34m\u001b[0m\u001b[0m\n\u001b[0;32m---> 18\u001b[0;31m \u001b[0mresult\u001b[0m \u001b[0;34m=\u001b[0m \u001b[0mmatrix\u001b[0m \u001b[0;34m+\u001b[0m\u001b[0mvector\u001b[0m\u001b[0;34m\u001b[0m\u001b[0;34m\u001b[0m\u001b[0m\n\u001b[0m\u001b[1;32m     19\u001b[0m \u001b[0mprint\u001b[0m\u001b[0;34m(\u001b[0m\u001b[0mresult\u001b[0m\u001b[0;34m)\u001b[0m\u001b[0;34m\u001b[0m\u001b[0;34m\u001b[0m\u001b[0m\n",
            "\u001b[0;31mValueError\u001b[0m: operands could not be broadcast together with shapes (2,3) (4,) "
          ]
        }
      ]
    },
    {
      "cell_type": "markdown",
      "source": [
        "## Logical Function"
      ],
      "metadata": {
        "id": "LTlkz0J8rSiz"
      }
    },
    {
      "cell_type": "code",
      "source": [
        "# comparison - >,< , >= ,<= , == , !=\n",
        "\n",
        "x = np.array([ 10 , 8 , 16 , 100 ])\n",
        "y = np.array([ 2 , 3 ,16  ,5 ])\n",
        "\n",
        "greater_than = x>y\n",
        "\n",
        "print(greater_than)\n",
        "\n",
        "equal = x==y\n",
        "\n",
        "print(equal)\n",
        "\n",
        "# all () -> shob true kina\n",
        "# any() -> jekono ekta true ase kina\n",
        "\n",
        "print(np.all(greater_than))\n",
        "\n",
        "print(np.any(equal))"
      ],
      "metadata": {
        "colab": {
          "base_uri": "https://localhost:8080/"
        },
        "id": "--pPGJnvtaVb",
        "outputId": "fc909d2c-0af2-458d-b250-76dad3783c41"
      },
      "execution_count": 25,
      "outputs": [
        {
          "output_type": "stream",
          "name": "stdout",
          "text": [
            "[ True  True False  True]\n",
            "[False False  True False]\n",
            "False\n",
            "True\n"
          ]
        }
      ]
    },
    {
      "cell_type": "markdown",
      "source": [
        "## Sorting"
      ],
      "metadata": {
        "id": "USwf-Eqmt4wJ"
      }
    },
    {
      "cell_type": "code",
      "source": [
        "#inplace\n",
        "x = np.array([ 10 , 8 , 16 , 100 ])\n",
        "\n",
        "z = x.copy()\n",
        "\n",
        "print(z)\n",
        "\n",
        "z.sort()\n",
        "\n",
        "print(z)"
      ],
      "metadata": {
        "colab": {
          "base_uri": "https://localhost:8080/"
        },
        "id": "4ky279qxtg6C",
        "outputId": "a24a29cd-941f-47ba-d1db-2fa39d1d5c8a"
      },
      "execution_count": 26,
      "outputs": [
        {
          "output_type": "stream",
          "name": "stdout",
          "text": [
            "[ 10   8  16 100]\n",
            "[  8  10  16 100]\n"
          ]
        }
      ]
    },
    {
      "cell_type": "code",
      "source": [
        "# copy sorting\n",
        "print(x)\n",
        "sort_arr = np.sort(x)\n",
        "\n",
        "print(sort_arr)\n",
        "\n",
        "print(x)"
      ],
      "metadata": {
        "colab": {
          "base_uri": "https://localhost:8080/"
        },
        "id": "FYGuADkJuOeT",
        "outputId": "adfe0096-75f8-4264-aba6-e9dc1094ab6a"
      },
      "execution_count": 27,
      "outputs": [
        {
          "output_type": "stream",
          "name": "stdout",
          "text": [
            "[ 10   8  16 100]\n",
            "[  8  10  16 100]\n",
            "[ 10   8  16 100]\n"
          ]
        }
      ]
    },
    {
      "cell_type": "code",
      "source": [
        "# 2d array sorting\n",
        "mat = np.array([[10,3,5],[8,4,9]])\n",
        "\n",
        "# horizon axis = 1\n",
        "\n",
        "hor_sort = np.sort(mat,axis=1)\n",
        "print(hor_sort)\n",
        "\n",
        "vert_sort = np.sort(mat,axis=0)\n",
        "print(vert_sort)"
      ],
      "metadata": {
        "colab": {
          "base_uri": "https://localhost:8080/"
        },
        "id": "RtqhNLZguQ-7",
        "outputId": "8dfa886e-6076-4dd7-a250-632b6f11adc6"
      },
      "execution_count": 28,
      "outputs": [
        {
          "output_type": "stream",
          "name": "stdout",
          "text": [
            "[[ 3  5 10]\n",
            " [ 4  8  9]]\n",
            "[[ 8  3  5]\n",
            " [10  4  9]]\n"
          ]
        }
      ]
    },
    {
      "cell_type": "markdown",
      "source": [
        "## Searching"
      ],
      "metadata": {
        "id": "B1iqqY8gugwT"
      }
    },
    {
      "cell_type": "code",
      "source": [
        "print(x)"
      ],
      "metadata": {
        "colab": {
          "base_uri": "https://localhost:8080/"
        },
        "id": "v6-8S0hvujCx",
        "outputId": "f01ed697-4508-4ba0-cb1a-3498e62819e1"
      },
      "execution_count": 29,
      "outputs": [
        {
          "output_type": "stream",
          "name": "stdout",
          "text": [
            "[ 10   8  16 100]\n"
          ]
        }
      ]
    },
    {
      "cell_type": "code",
      "source": [
        "# np.where( condition , x , y ) if true x , otherwise replace with y\n",
        "\n",
        "index = np.where(x==8) # returns index\n",
        "print(index)\n",
        "\n",
        "arr = np.where(x>8,x,0) # returns array\n",
        "print(arr)"
      ],
      "metadata": {
        "colab": {
          "base_uri": "https://localhost:8080/"
        },
        "id": "_Yiqtzz4ukp6",
        "outputId": "16e1b3e2-218c-4c7b-95ed-40ee0f0e2efe"
      },
      "execution_count": 30,
      "outputs": [
        {
          "output_type": "stream",
          "name": "stdout",
          "text": [
            "(array([1]),)\n",
            "[ 10   0  16 100]\n"
          ]
        }
      ]
    },
    {
      "cell_type": "code",
      "source": [
        "print(mat)"
      ],
      "metadata": {
        "colab": {
          "base_uri": "https://localhost:8080/"
        },
        "id": "whET2m8Tv7Rx",
        "outputId": "2e0cc018-f03a-41e7-d6c1-78546a8721f5"
      },
      "execution_count": 31,
      "outputs": [
        {
          "output_type": "stream",
          "name": "stdout",
          "text": [
            "[[10  3  5]\n",
            " [ 8  4  9]]\n"
          ]
        }
      ]
    },
    {
      "cell_type": "code",
      "source": [
        "index = np.where(mat>8) # returns index\n",
        "print(index)\n",
        "\n",
        "arr = np.where(mat>8,mat,0) # returns array\n",
        "print(arr)"
      ],
      "metadata": {
        "colab": {
          "base_uri": "https://localhost:8080/"
        },
        "id": "dRF06jh8v-uh",
        "outputId": "8a875626-b547-413d-a533-0ef2b5104973"
      },
      "execution_count": 32,
      "outputs": [
        {
          "output_type": "stream",
          "name": "stdout",
          "text": [
            "(array([0, 1]), array([0, 2]))\n",
            "[[10  0  0]\n",
            " [ 0  0  9]]\n"
          ]
        }
      ]
    },
    {
      "cell_type": "code",
      "source": [
        "x = np.array([ 10,100 , 8 , 16 , 100 ])\n",
        "\n",
        "maximum_value_indx = np.argmax(x)\n",
        "minimum_value_indx = np.argmin(x)\n",
        "\n",
        "print(maximum_value_indx)\n",
        "print(minimum_value_indx)"
      ],
      "metadata": {
        "colab": {
          "base_uri": "https://localhost:8080/"
        },
        "id": "_lz5V4Nrwm0l",
        "outputId": "3b75ace6-76b0-4599-b588-f369c3079987"
      },
      "execution_count": 35,
      "outputs": [
        {
          "output_type": "stream",
          "name": "stdout",
          "text": [
            "1\n",
            "2\n"
          ]
        }
      ]
    },
    {
      "cell_type": "markdown",
      "source": [
        "## counting in ndarray"
      ],
      "metadata": {
        "id": "qqGHXhZ8wxZ6"
      }
    },
    {
      "cell_type": "code",
      "source": [
        "a = np.random.randint(1 ,100 , size =(100,))\n",
        "print(a)"
      ],
      "metadata": {
        "colab": {
          "base_uri": "https://localhost:8080/"
        },
        "id": "0mgmmHjQxLDx",
        "outputId": "84d338f3-96b5-481e-e747-5bda9f5cc6c4"
      },
      "execution_count": 36,
      "outputs": [
        {
          "output_type": "stream",
          "name": "stdout",
          "text": [
            "[74 56 83 27 43 85 49 85 27 13 96 94 89 87 46 62 15 40 94 29 11 62 69 77\n",
            " 58 56 43 44 39 63 55 63 33 22 65 39 70 76 53 28 84 70 77 77 10  6 72 69\n",
            " 49 63 48 76 67 12  7 35 88 67 15 31 48 12 19  3 94 34 51 42 92 32 54 49\n",
            " 25  9 19 46  6 87 55 15 57 84 46 26 52 54 83 49 81  3 51 94 11  3 43 71\n",
            " 48 82 83 71]\n"
          ]
        }
      ]
    },
    {
      "cell_type": "code",
      "source": [
        "value_great_than_60 = np.count_nonzero(a>=77)\n",
        "print(value_great_than_60)"
      ],
      "metadata": {
        "colab": {
          "base_uri": "https://localhost:8080/"
        },
        "id": "ikUuAvIZxNGS",
        "outputId": "0095348a-1569-4260-a2b6-9c34e513ed4e"
      },
      "execution_count": 39,
      "outputs": [
        {
          "output_type": "stream",
          "name": "stdout",
          "text": [
            "22\n"
          ]
        }
      ]
    },
    {
      "cell_type": "code",
      "source": [
        "unique_value,count = np.unique(a, return_counts=True)\n",
        "print(unique_value)\n",
        "print(count)"
      ],
      "metadata": {
        "colab": {
          "base_uri": "https://localhost:8080/"
        },
        "id": "FtNiCf3XycLS",
        "outputId": "80a0848b-19a6-4c4b-8775-a3badffee71d"
      },
      "execution_count": 46,
      "outputs": [
        {
          "output_type": "stream",
          "name": "stdout",
          "text": [
            "[ 3  6  7  9 10 11 12 13 15 19 22 25 26 27 28 29 31 32 33 34 35 39 40 42\n",
            " 43 44 46 48 49 51 52 53 54 55 56 57 58 62 63 65 67 69 70 71 72 74 76 77\n",
            " 81 82 83 84 85 87 88 89 92 94 96]\n",
            "[3 2 1 1 1 2 2 1 3 2 1 1 1 2 1 1 1 1 1 1 1 2 1 1 3 1 3 3 4 2 1 1 2 2 2 1 1\n",
            " 2 3 1 2 2 2 2 1 1 2 3 1 1 3 2 2 2 1 1 1 4 1]\n"
          ]
        }
      ]
    },
    {
      "cell_type": "markdown",
      "source": [
        "# statistical function"
      ],
      "metadata": {
        "id": "zyzvXSZR1L5i"
      }
    },
    {
      "cell_type": "code",
      "source": [
        "# data load\n",
        "data = np.genfromtxt('student_marks.csv', delimiter=',',skip_header=1, usecols=(1,2,3))\n",
        "print(data)"
      ],
      "metadata": {
        "colab": {
          "base_uri": "https://localhost:8080/"
        },
        "id": "HnQBr6yjyioZ",
        "outputId": "cb72d4a5-c942-449f-a757-bf3a8a9e655f"
      },
      "execution_count": 50,
      "outputs": [
        {
          "output_type": "stream",
          "name": "stdout",
          "text": [
            "[[85. 89. 82.]\n",
            " [90. 84. 88.]\n",
            " [78. 80. 90.]\n",
            " [92. 91. 85.]\n",
            " [88. 85. 86.]\n",
            " [80. 79. 84.]\n",
            " [76. 88. 79.]\n",
            " [95. 92. 91.]\n",
            " [83. 86. 87.]\n",
            " [89. 83. 83.]\n",
            " [91. 90. 92.]\n",
            " [74. 75. 80.]\n",
            " [86. 87. 88.]\n",
            " [88. 89. 85.]\n",
            " [77. 81. 81.]\n",
            " [93. 93. 90.]\n",
            " [84. 78. 84.]\n",
            " [81. 82. 86.]\n",
            " [79. 88. 78.]\n",
            " [87. 85. 89.]]\n"
          ]
        }
      ]
    },
    {
      "cell_type": "code",
      "source": [
        "eng_marks = data[:,1:2]\n",
        "print(eng_marks.T)\n",
        "max_eng_marks = np.max(eng_marks)\n",
        "print(max_eng_marks)\n",
        "\n",
        "min_eng_marks = np.min(eng_marks)\n",
        "print(min_eng_marks)\n",
        "\n",
        "average_eng_marks = np.mean(eng_marks)\n",
        "print(average_eng_marks)\n",
        "\n",
        "median_eng_marks = np.median(eng_marks)\n",
        "print(median_eng_marks)\n",
        "\n",
        "# standard deviation\n",
        "\n",
        "std_eng_marks = np.std(eng_marks)\n",
        "print(std_eng_marks)"
      ],
      "metadata": {
        "colab": {
          "base_uri": "https://localhost:8080/"
        },
        "id": "oyoaO5MN1zMp",
        "outputId": "a029b0ca-6f6b-4777-e669-3dd87a2789d2"
      },
      "execution_count": 58,
      "outputs": [
        {
          "output_type": "stream",
          "name": "stdout",
          "text": [
            "[[89. 84. 80. 91. 85. 79. 88. 92. 86. 83. 90. 75. 87. 89. 81. 93. 78. 82.\n",
            "  88. 85.]]\n",
            "93.0\n",
            "75.0\n",
            "85.25\n",
            "85.5\n",
            "4.836062447901185\n"
          ]
        }
      ]
    },
    {
      "cell_type": "code",
      "source": [
        "study_hours = np.array([2, 4, 5, 7, 8])\n",
        "exam_scores = np.array([65, 75, 78, 88, 92])\n",
        "\n",
        "data = np.array([study_hours, exam_scores])\n",
        "\n",
        "correlation = np.corrcoef(data)\n",
        "\n",
        "print(\"Correlation Matrix:\\n\", correlation)"
      ],
      "metadata": {
        "colab": {
          "base_uri": "https://localhost:8080/"
        },
        "id": "VocUhjvOAQ0y",
        "outputId": "5dee071f-76f0-4a79-b5d4-ecf016d2ab5d"
      },
      "execution_count": 59,
      "outputs": [
        {
          "output_type": "stream",
          "name": "stdout",
          "text": [
            "Correlation Matrix:\n",
            " [[1.         0.99859154]\n",
            " [0.99859154 1.        ]]\n"
          ]
        }
      ]
    },
    {
      "cell_type": "markdown",
      "source": [
        "## linear algebra"
      ],
      "metadata": {
        "id": "Jp5_aWhmAc0a"
      }
    },
    {
      "cell_type": "code",
      "source": [
        "A = np.array([\n",
        "    [1, 2, 3],\n",
        "    [4, 5, 6]\n",
        "])\n",
        "\n",
        "B = np.array([\n",
        "    [7, 8],\n",
        "    [9, 10],\n",
        "    [11, 12]\n",
        "])\n",
        "\n",
        "# a er column and b er row same length hote hobe\n",
        "dot_product = np.dot(A,B)\n",
        "print(dot_product)\n",
        "\n",
        "\n",
        "# trace\n",
        "print(np.trace(B))\n",
        "\n",
        "\n",
        "#"
      ],
      "metadata": {
        "colab": {
          "base_uri": "https://localhost:8080/"
        },
        "id": "n-kg1TpGAVm6",
        "outputId": "80912592-49e0-4b22-986a-2b16add32c7f"
      },
      "execution_count": 60,
      "outputs": [
        {
          "output_type": "stream",
          "name": "stdout",
          "text": [
            "[[ 58  64]\n",
            " [139 154]]\n",
            "17\n"
          ]
        }
      ]
    },
    {
      "cell_type": "code",
      "source": [
        "sq_mat = np.array([[1,2,3],\n",
        "          [4,5,6],\n",
        "          [7,8,9]\n",
        "         ])\n",
        "\n",
        "det_of_sq = np.linalg.det(sq_mat)\n",
        "\n",
        "rank_sq = np.linalg.matrix_rank(sq_mat)\n",
        "\n",
        "print(det_of_sq)\n",
        "\n",
        "print(rank_sq)"
      ],
      "metadata": {
        "colab": {
          "base_uri": "https://localhost:8080/"
        },
        "id": "xvrcVWcZAiDo",
        "outputId": "5464c7e5-505f-41f8-fdc6-2de48e2bdd18"
      },
      "execution_count": 61,
      "outputs": [
        {
          "output_type": "stream",
          "name": "stdout",
          "text": [
            "0.0\n",
            "2\n"
          ]
        }
      ]
    },
    {
      "cell_type": "code",
      "source": [
        "A = np.array([[1, 2], [3, 4]])\n",
        "B = np.array([[5, 6], [7, 8]])\n",
        "\n",
        "print(np.dot(A,B))"
      ],
      "metadata": {
        "colab": {
          "base_uri": "https://localhost:8080/"
        },
        "id": "K02rSrLyAk0B",
        "outputId": "897dd20e-97ed-4188-a38a-8b5d6d6210da"
      },
      "execution_count": 62,
      "outputs": [
        {
          "output_type": "stream",
          "name": "stdout",
          "text": [
            "[[19 22]\n",
            " [43 50]]\n"
          ]
        }
      ]
    }
  ]
}