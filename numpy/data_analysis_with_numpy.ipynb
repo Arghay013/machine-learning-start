{
  "nbformat": 4,
  "nbformat_minor": 0,
  "metadata": {
    "colab": {
      "provenance": [],
      "authorship_tag": "ABX9TyPwZcgxx+lCOATLeyfFXFix",
      "include_colab_link": true
    },
    "kernelspec": {
      "name": "python3",
      "display_name": "Python 3"
    },
    "language_info": {
      "name": "python"
    }
  },
  "cells": [
    {
      "cell_type": "markdown",
      "metadata": {
        "id": "view-in-github",
        "colab_type": "text"
      },
      "source": [
        "<a href=\"https://colab.research.google.com/github/Arghay013/machine-learning-start/blob/main/numpy/data_analysis_with_numpy.ipynb\" target=\"_parent\"><img src=\"https://colab.research.google.com/assets/colab-badge.svg\" alt=\"Open In Colab\"/></a>"
      ]
    },
    {
      "cell_type": "code",
      "execution_count": null,
      "metadata": {
        "colab": {
          "base_uri": "https://localhost:8080/"
        },
        "id": "DbzqkIpSKZI3",
        "outputId": "1a80b9d8-db5d-4169-d37e-e6268a89203d"
      },
      "outputs": [
        {
          "output_type": "stream",
          "name": "stdout",
          "text": [
            "[1, 2, 3, 1, 2, 3, 1, 2, 3, 1, 2, 3, 1, 2, 3]\n",
            "[5, 10, 15]\n"
          ]
        }
      ],
      "source": [
        "arr = [1,2,3]\n",
        "\n",
        "print( arr * 5 )\n",
        "\n",
        "arr = [ x*5 for x in arr]\n",
        "\n",
        "print(arr)"
      ]
    },
    {
      "cell_type": "markdown",
      "source": [
        "# nd array"
      ],
      "metadata": {
        "id": "oiO3agDiR0Yz"
      }
    },
    {
      "cell_type": "code",
      "source": [
        "import numpy as np\n",
        "\n",
        "arr1 = np.array([1,2,3])\n",
        "\n",
        "arr1 = arr1 * 5\n",
        "\n",
        "print(arr1)"
      ],
      "metadata": {
        "colab": {
          "base_uri": "https://localhost:8080/"
        },
        "id": "DqWNpiwbSKyV",
        "outputId": "f6102606-9afd-479e-f713-5ba5d5bff5f0"
      },
      "execution_count": null,
      "outputs": [
        {
          "output_type": "stream",
          "name": "stdout",
          "text": [
            "[ 5 10 15]\n"
          ]
        }
      ]
    },
    {
      "cell_type": "code",
      "source": [
        "import numpy as np\n",
        "\n",
        "# 1d array\n",
        "arr1 = np.array([1,2,3,4,5])\n",
        "\n",
        "\n",
        "# 2d array\n",
        "arr2 = np.array([ [1,2,3], # row1\n",
        "                  [4,5,6] #row2\n",
        "                ])\n",
        "\n",
        "#3d array\n",
        "\n",
        "arr3 = np.array([\n",
        "    #1st floor\n",
        "    [ [1,2,3], # row1\n",
        "      [4,5,6]  ], #row2\n",
        "\n",
        "    #2nd floor\n",
        "\n",
        "     [[1,2,3], # row1\n",
        "      [4,5,6]  ], #row2\n",
        "\n",
        "\n",
        "    #3rd floor\n",
        "      [[1,2,3], # row1\n",
        "      [4,5,6]  ] #row2\n",
        "\n",
        "\n",
        "])"
      ],
      "metadata": {
        "id": "yZ7ih4e2Th-d"
      },
      "execution_count": null,
      "outputs": []
    },
    {
      "cell_type": "code",
      "source": [
        "# dimension\n",
        "print(arr1.ndim)\n",
        "print(arr2.ndim)\n",
        "print(arr3.ndim)\n",
        "\n",
        "\n",
        "#shape\n",
        "print(arr1.shape)\n",
        "print(arr2.shape)\n",
        "print(arr3.shape)\n",
        "\n",
        "\n",
        "#data type\n",
        "print(arr1.dtype)\n",
        "print(arr2.dtype)\n",
        "print(arr3.dtype)\n",
        "\n",
        "\n",
        "#size\n",
        "print(arr1.size)\n",
        "print(arr2.size)\n",
        "print(arr3.size)"
      ],
      "metadata": {
        "colab": {
          "base_uri": "https://localhost:8080/"
        },
        "id": "oyhYpC9fTyg4",
        "outputId": "5a161b5d-2a4a-4ee9-b488-48306a54b787"
      },
      "execution_count": null,
      "outputs": [
        {
          "output_type": "stream",
          "name": "stdout",
          "text": [
            "1\n",
            "2\n",
            "3\n",
            "(5,)\n",
            "(2, 3)\n",
            "(3, 2, 3)\n",
            "int64\n",
            "int64\n",
            "int64\n",
            "5\n",
            "6\n",
            "18\n"
          ]
        }
      ]
    },
    {
      "cell_type": "markdown",
      "source": [
        "## ndarray data type"
      ],
      "metadata": {
        "id": "FttL7uTDUFO-"
      }
    },
    {
      "cell_type": "code",
      "source": [
        "arr = np.array([1,2,3])\n",
        "\n",
        "print(arr.dtype)\n",
        "\n",
        "arr = np.array([1.5,2.4,3.2])\n",
        "print(arr.dtype)"
      ],
      "metadata": {
        "colab": {
          "base_uri": "https://localhost:8080/"
        },
        "id": "QravrBeRUImo",
        "outputId": "2b0ef8f3-3218-48a3-8975-a3fb184e0378"
      },
      "execution_count": null,
      "outputs": [
        {
          "output_type": "stream",
          "name": "stdout",
          "text": [
            "int64\n",
            "float64\n"
          ]
        }
      ]
    },
    {
      "cell_type": "code",
      "source": [
        "arr = np.array([1,2,3.2])\n",
        "# upcasted to float\n",
        "print(arr.dtype)\n",
        "\n",
        "#upcasted to string\n",
        "arr = np.array([1,2,3.2,'hello'])\n",
        "print(arr.dtype)\n",
        "\n",
        "\n",
        "arr = np.array([1,True,3.25,'hello',])\n",
        "print(arr.dtype)"
      ],
      "metadata": {
        "colab": {
          "base_uri": "https://localhost:8080/"
        },
        "id": "BID048y0Y01g",
        "outputId": "cb41a584-198d-4c82-eb1f-3dadb3258ffa"
      },
      "execution_count": null,
      "outputs": [
        {
          "output_type": "stream",
          "name": "stdout",
          "text": [
            "float64\n",
            "<U32\n",
            "<U32\n"
          ]
        }
      ]
    },
    {
      "cell_type": "markdown",
      "source": [
        "## selecting a data type for an array"
      ],
      "metadata": {
        "id": "EiuJcxuiY32V"
      }
    },
    {
      "cell_type": "code",
      "source": [
        "arr = np.array([1,2,300],dtype=np.int16)\n",
        "print(arr.dtype)\n",
        "print(arr)\n",
        "\n",
        "\n",
        "\n",
        "\n",
        "arr = arr.astype(np.int32)\n",
        "print(arr.dtype)\n",
        "\n",
        "\n",
        "#error\n",
        "arr = np.array([1,2,3.2,'hello'],dtype=np.float64)"
      ],
      "metadata": {
        "colab": {
          "base_uri": "https://localhost:8080/",
          "height": 228
        },
        "id": "NBt3675sY7bq",
        "outputId": "6497241d-b6e2-4c60-8ff3-e723051c738b"
      },
      "execution_count": null,
      "outputs": [
        {
          "output_type": "stream",
          "name": "stdout",
          "text": [
            "int16\n",
            "[  1   2 300]\n",
            "int32\n"
          ]
        },
        {
          "output_type": "error",
          "ename": "ValueError",
          "evalue": "could not convert string to float: 'hello'",
          "traceback": [
            "\u001b[0;31m---------------------------------------------------------------------------\u001b[0m",
            "\u001b[0;31mValueError\u001b[0m                                Traceback (most recent call last)",
            "\u001b[0;32m/tmp/ipython-input-3440423638.py\u001b[0m in \u001b[0;36m<cell line: 0>\u001b[0;34m()\u001b[0m\n\u001b[1;32m     11\u001b[0m \u001b[0;34m\u001b[0m\u001b[0m\n\u001b[1;32m     12\u001b[0m \u001b[0;31m#error\u001b[0m\u001b[0;34m\u001b[0m\u001b[0;34m\u001b[0m\u001b[0m\n\u001b[0;32m---> 13\u001b[0;31m \u001b[0marr\u001b[0m \u001b[0;34m=\u001b[0m \u001b[0mnp\u001b[0m\u001b[0;34m.\u001b[0m\u001b[0marray\u001b[0m\u001b[0;34m(\u001b[0m\u001b[0;34m[\u001b[0m\u001b[0;36m1\u001b[0m\u001b[0;34m,\u001b[0m\u001b[0;36m2\u001b[0m\u001b[0;34m,\u001b[0m\u001b[0;36m3.2\u001b[0m\u001b[0;34m,\u001b[0m\u001b[0;34m'hello'\u001b[0m\u001b[0;34m]\u001b[0m\u001b[0;34m,\u001b[0m\u001b[0mdtype\u001b[0m\u001b[0;34m=\u001b[0m\u001b[0mnp\u001b[0m\u001b[0;34m.\u001b[0m\u001b[0mfloat64\u001b[0m\u001b[0;34m)\u001b[0m\u001b[0;34m\u001b[0m\u001b[0;34m\u001b[0m\u001b[0m\n\u001b[0m",
            "\u001b[0;31mValueError\u001b[0m: could not convert string to float: 'hello'"
          ]
        }
      ]
    },
    {
      "cell_type": "markdown",
      "source": [
        "### ndarray creation from existing data"
      ],
      "metadata": {
        "id": "n4D8zDm1aTwT"
      }
    },
    {
      "cell_type": "code",
      "source": [
        "#list\n",
        "\n",
        "lst = [10,20,30,40 , 40.5]\n",
        "\n",
        "arr = np.array(lst, dtype=np.int32)\n",
        "\n",
        "# print(arr)\n",
        "# print(type(arr))\n",
        "# print(arr.dtype)\n",
        "\n",
        "\n",
        "mixed_lst = [10, True , 'Hello' ]\n",
        "\n",
        "arr = np.array(mixed_lst)\n",
        "\n",
        "# print(arr)\n",
        "# print(type(arr))\n",
        "# print(arr.dtype)\n",
        "\n",
        "\n",
        "matrix = [ [1,2,3], # row1\n",
        "           [4,5,6] #row2\n",
        "                ]\n",
        "\n",
        "arr = np.array(matrix)\n",
        "\n",
        "print(arr)\n",
        "print(type(arr))\n",
        "print(arr.dtype)\n",
        "print(arr.shape)\n",
        "print(arr.ndim)"
      ],
      "metadata": {
        "colab": {
          "base_uri": "https://localhost:8080/"
        },
        "id": "ol3Q2cvqY8R5",
        "outputId": "1961d520-4590-45f9-8f34-06caa2185859"
      },
      "execution_count": null,
      "outputs": [
        {
          "output_type": "stream",
          "name": "stdout",
          "text": [
            "[[1 2 3]\n",
            " [4 5 6]]\n",
            "<class 'numpy.ndarray'>\n",
            "int64\n",
            "(2, 3)\n",
            "2\n"
          ]
        }
      ]
    },
    {
      "cell_type": "code",
      "source": [
        "#tuple\n",
        "\n",
        "tpl = (10,20,30)\n",
        "\n",
        "arr = np.array(tpl,dtype=np.int32)\n",
        "print(arr.dtype)\n",
        "arr = arr.astype(np.int16)\n",
        "print(arr)\n",
        "print(type(arr))\n",
        "print(arr.dtype)\n",
        "print(arr.shape)\n",
        "print(arr.ndim)"
      ],
      "metadata": {
        "colab": {
          "base_uri": "https://localhost:8080/"
        },
        "id": "V3Fn4tSKbqJD",
        "outputId": "902d311d-7838-433e-85d1-e0ceec627b11"
      },
      "execution_count": null,
      "outputs": [
        {
          "output_type": "stream",
          "name": "stdout",
          "text": [
            "int32\n",
            "[10 20 30]\n",
            "<class 'numpy.ndarray'>\n",
            "int16\n",
            "(3,)\n",
            "1\n"
          ]
        }
      ]
    },
    {
      "cell_type": "code",
      "source": [
        "#set\n",
        "\n",
        "st = { 1, 2, 3 }\n",
        "\n",
        "arr = np.array(list(st))\n",
        "# print(arr.dtype)\n",
        "arr = arr.astype(np.int16)\n",
        "print(arr)\n",
        "print(type(arr))\n",
        "print(arr.dtype)\n",
        "print(arr.shape)\n",
        "print(arr.ndim)"
      ],
      "metadata": {
        "colab": {
          "base_uri": "https://localhost:8080/"
        },
        "id": "Z07n8gczbuC7",
        "outputId": "1da4430f-a21d-4bb2-ea46-47073872444a"
      },
      "execution_count": null,
      "outputs": [
        {
          "output_type": "stream",
          "name": "stdout",
          "text": [
            "[1 2 3]\n",
            "<class 'numpy.ndarray'>\n",
            "int16\n",
            "(3,)\n",
            "1\n"
          ]
        }
      ]
    },
    {
      "cell_type": "code",
      "source": [
        "# dictionary\n",
        "\n",
        "dc = { 'a' : 10 , 'b' : 20 , 'c' :30 }\n",
        "\n",
        "keys = dc.keys()\n",
        "values = dc.values()\n",
        "items = dc.items()"
      ],
      "metadata": {
        "id": "K71K8aRKbxO0"
      },
      "execution_count": null,
      "outputs": []
    },
    {
      "cell_type": "code",
      "source": [
        "# dictionary\n",
        "\n",
        "dc = { 'a' : 10 , 'b' : 20 , 'c' :30 }\n",
        "\n",
        "keys = dc.keys()\n",
        "values = dc.values()\n",
        "items = dc.items()"
      ],
      "metadata": {
        "id": "gl592asubzX4"
      },
      "execution_count": null,
      "outputs": []
    },
    {
      "cell_type": "code",
      "source": [
        "#values to ndarray\n",
        "arr = np.array(list(values))\n",
        "print(arr)\n",
        "arr = arr.astype(np.int16)\n",
        "print(type(arr))\n",
        "print(arr.dtype)\n",
        "print(arr.shape)\n",
        "print(arr.ndim)\n",
        "print(arr.size)"
      ],
      "metadata": {
        "colab": {
          "base_uri": "https://localhost:8080/"
        },
        "id": "8oKDpMHwb2E5",
        "outputId": "8dd8afcc-6810-451d-8c0b-ed3d08ad4a82"
      },
      "execution_count": null,
      "outputs": [
        {
          "output_type": "stream",
          "name": "stdout",
          "text": [
            "[10 20 30]\n",
            "<class 'numpy.ndarray'>\n",
            "int16\n",
            "(3,)\n",
            "1\n",
            "3\n"
          ]
        }
      ]
    },
    {
      "cell_type": "code",
      "source": [
        "#items to ndarray\n",
        "arr = np.array(list(items))\n",
        "print(arr)\n",
        "print(type(arr))\n",
        "print(arr.dtype)\n",
        "print(arr.shape)\n",
        "print(arr.ndim)\n",
        "print(arr.size)"
      ],
      "metadata": {
        "colab": {
          "base_uri": "https://localhost:8080/"
        },
        "id": "j0SMnrXYb6Op",
        "outputId": "5d1caf0e-c054-4477-cd31-60ab147908ba"
      },
      "execution_count": null,
      "outputs": [
        {
          "output_type": "stream",
          "name": "stdout",
          "text": [
            "[['a' '10']\n",
            " ['b' '20']\n",
            " ['c' '30']]\n",
            "<class 'numpy.ndarray'>\n",
            "<U21\n",
            "(3, 2)\n",
            "2\n",
            "6\n"
          ]
        }
      ]
    },
    {
      "cell_type": "markdown",
      "source": [
        "### Creating ndarray from scratch"
      ],
      "metadata": {
        "id": "fI3i-i0Gb-eW"
      }
    },
    {
      "cell_type": "code",
      "source": [
        "# np.zeros\n",
        "\n",
        "arr = np.zeros((2,3),dtype=np.int8)\n",
        "\n",
        "# print(arr)\n",
        "# print(type(arr))\n",
        "# print(arr.dtype)\n",
        "# print(arr.shape)\n",
        "# print(arr.ndim)\n",
        "# print(arr.size)\n",
        "\n",
        "arr = np.zeros_like(arr3) ## arr3 shape same\n",
        "print(arr)\n",
        "print(arr.shape)"
      ],
      "metadata": {
        "colab": {
          "base_uri": "https://localhost:8080/"
        },
        "id": "yEbD5zF6cBN-",
        "outputId": "3bf21b8e-978f-4e9f-fc8c-36ba605b3958"
      },
      "execution_count": null,
      "outputs": [
        {
          "output_type": "stream",
          "name": "stdout",
          "text": [
            "[[[0 0 0]\n",
            "  [0 0 0]]\n",
            "\n",
            " [[0 0 0]\n",
            "  [0 0 0]]\n",
            "\n",
            " [[0 0 0]\n",
            "  [0 0 0]]]\n",
            "(3, 2, 3)\n"
          ]
        }
      ]
    },
    {
      "cell_type": "code",
      "source": [
        "#np.ones\n",
        "\n",
        "arr = np.ones((3,4,3),dtype=np.int8)\n",
        "\n",
        "# print(arr)\n",
        "# print(type(arr))\n",
        "# print(arr.dtype)\n",
        "# print(arr.shape)\n",
        "# print(arr.ndim)\n",
        "# print(arr.size)\n",
        "\n",
        "\n",
        "arr = np.ones_like(arr3) ## arr3 shape same\n",
        "print(arr)\n",
        "print(arr.shape)\n"
      ],
      "metadata": {
        "colab": {
          "base_uri": "https://localhost:8080/"
        },
        "id": "NmgRvnAucEKJ",
        "outputId": "bae191c1-498d-4163-889e-de94611bd435"
      },
      "execution_count": null,
      "outputs": [
        {
          "output_type": "stream",
          "name": "stdout",
          "text": [
            "[[[1 1 1]\n",
            "  [1 1 1]]\n",
            "\n",
            " [[1 1 1]\n",
            "  [1 1 1]]\n",
            "\n",
            " [[1 1 1]\n",
            "  [1 1 1]]]\n",
            "(3, 2, 3)\n"
          ]
        }
      ]
    },
    {
      "cell_type": "code",
      "source": [
        "#np.empty\n",
        "arr = np.empty((4,3),dtype=np.int8)\n",
        "\n",
        "# print(arr)\n",
        "# print(type(arr))\n",
        "# print(arr.dtype)\n",
        "# print(arr.shape)\n",
        "# print(arr.ndim)\n",
        "# print(arr.size)\n",
        "\n",
        "arr = np.empty_like(arr3) ## arr3 shape same\n",
        "print(arr)\n",
        "print(arr.shape)"
      ],
      "metadata": {
        "colab": {
          "base_uri": "https://localhost:8080/"
        },
        "id": "cVJ6r7F1cHJn",
        "outputId": "27c18d56-8958-43fa-d760-5e4f374e8618"
      },
      "execution_count": null,
      "outputs": [
        {
          "output_type": "stream",
          "name": "stdout",
          "text": [
            "[[[1 1 1]\n",
            "  [1 1 1]]\n",
            "\n",
            " [[1 1 1]\n",
            "  [1 1 1]]\n",
            "\n",
            " [[1 1 1]\n",
            "  [1 1 1]]]\n",
            "(3, 2, 3)\n"
          ]
        }
      ]
    },
    {
      "cell_type": "code",
      "source": [
        "#np.full\n",
        "\n",
        "arr = np.full((4,3),np.inf)\n",
        "\n",
        "# print(arr)\n",
        "# print(type(arr))\n",
        "# print(arr.dtype)\n",
        "# print(arr.shape)\n",
        "# print(arr.ndim)\n",
        "# print(arr.size)\n",
        "\n",
        "\n",
        "arr = np.full_like(arr3,np.inf,dtype=np.float64)\n",
        "\n",
        "print(arr)\n",
        "print(arr.shape)\n",
        "print(arr.dtype)"
      ],
      "metadata": {
        "colab": {
          "base_uri": "https://localhost:8080/"
        },
        "id": "8j9OpiN7cJLp",
        "outputId": "7a7388b2-c0f6-4028-adcb-00c880ed249e"
      },
      "execution_count": null,
      "outputs": [
        {
          "output_type": "stream",
          "name": "stdout",
          "text": [
            "[[[inf inf inf]\n",
            "  [inf inf inf]]\n",
            "\n",
            " [[inf inf inf]\n",
            "  [inf inf inf]]\n",
            "\n",
            " [[inf inf inf]\n",
            "  [inf inf inf]]]\n",
            "(3, 2, 3)\n",
            "float64\n"
          ]
        }
      ]
    },
    {
      "cell_type": "code",
      "source": [],
      "metadata": {
        "id": "xihRJDIFcLLn"
      },
      "execution_count": null,
      "outputs": []
    },
    {
      "cell_type": "markdown",
      "source": [
        "### array creation with random values"
      ],
      "metadata": {
        "id": "qR5pelX2cNQu"
      }
    },
    {
      "cell_type": "code",
      "source": [
        "# np.random.rand(shape)\n",
        "\n",
        "arr = np.random.rand(2,3) # 0 ->1\n",
        "\n",
        "print(arr)\n",
        "print(type(arr))\n",
        "print(arr.dtype)\n",
        "print(arr.shape)\n",
        "print(arr.ndim)\n",
        "print(arr.size)"
      ],
      "metadata": {
        "colab": {
          "base_uri": "https://localhost:8080/"
        },
        "id": "BBssMXJPcQec",
        "outputId": "640b9239-0fff-4bfa-ee44-4f0b96253dc3"
      },
      "execution_count": null,
      "outputs": [
        {
          "output_type": "stream",
          "name": "stdout",
          "text": [
            "[[0.06312886 0.74889615 0.13727905]\n",
            " [0.28930569 0.13772387 0.08276623]]\n",
            "<class 'numpy.ndarray'>\n",
            "float64\n",
            "(2, 3)\n",
            "2\n",
            "6\n"
          ]
        }
      ]
    },
    {
      "cell_type": "code",
      "source": [
        "# np.random.randint(start,end, shape)\n",
        "\n",
        "arr = np.random.randint(1,10 , (2,3))\n",
        "\n",
        "print(arr)\n",
        "print(type(arr))\n",
        "print(arr.dtype)\n",
        "print(arr.shape)\n",
        "print(arr.ndim)\n",
        "print(arr.size)"
      ],
      "metadata": {
        "colab": {
          "base_uri": "https://localhost:8080/"
        },
        "id": "UC-iyRbbcRHf",
        "outputId": "2f5b497f-1850-4085-ee1b-cd0a803d7652"
      },
      "execution_count": null,
      "outputs": [
        {
          "output_type": "stream",
          "name": "stdout",
          "text": [
            "[[8 1 6]\n",
            " [1 3 7]]\n",
            "<class 'numpy.ndarray'>\n",
            "int64\n",
            "(2, 3)\n",
            "2\n",
            "6\n"
          ]
        }
      ]
    },
    {
      "cell_type": "code",
      "source": [
        "# np.random.uniform(start,end, shape)\n",
        "\n",
        "arr = np.random.uniform(50,100, (3,3,4))\n",
        "\n",
        "print(arr)\n",
        "print(type(arr))\n",
        "print(arr.dtype)\n",
        "print(arr.shape)\n",
        "print(arr.ndim)\n",
        "print(arr.size)"
      ],
      "metadata": {
        "colab": {
          "base_uri": "https://localhost:8080/"
        },
        "id": "G0iU_eiScS7l",
        "outputId": "17fdeb04-bb9d-4279-b942-c05ae37c2384"
      },
      "execution_count": null,
      "outputs": [
        {
          "output_type": "stream",
          "name": "stdout",
          "text": [
            "[[[62.0869427  67.90747128 60.59057526 99.8436517 ]\n",
            "  [86.96691737 81.25883516 66.42661686 63.7575571 ]\n",
            "  [57.1478214  78.94503391 67.78273866 61.56031332]]\n",
            "\n",
            " [[94.5132961  97.96841117 59.55905881 67.37766024]\n",
            "  [87.71497104 68.42421614 63.58807554 80.61311762]\n",
            "  [82.25198245 92.44236485 89.2784847  70.94621875]]\n",
            "\n",
            " [[92.5213907  74.86922842 85.40900858 88.38249406]\n",
            "  [59.47197438 61.79579873 93.21884876 95.39560032]\n",
            "  [94.51652152 89.05396388 64.89456784 53.78225869]]]\n",
            "<class 'numpy.ndarray'>\n",
            "float64\n",
            "(3, 3, 4)\n",
            "3\n",
            "36\n"
          ]
        }
      ]
    },
    {
      "cell_type": "code",
      "source": [],
      "metadata": {
        "id": "IOZK1l6AcU6l"
      },
      "execution_count": null,
      "outputs": []
    },
    {
      "cell_type": "markdown",
      "source": [
        "### array creation with range functions"
      ],
      "metadata": {
        "id": "Qsowe2UgcW5l"
      }
    },
    {
      "cell_type": "code",
      "source": [
        "# np.arange(first , end , step ) -> similar to range function\n",
        "\n",
        "arr = np.arange(1 , 10 ,1 )\n",
        "mat = arr.reshape(3,3)\n",
        "\n",
        "print(arr)\n",
        "print(mat)\n",
        "print(type(arr))\n",
        "print(arr.dtype)\n",
        "print(arr.shape)\n",
        "print(arr.ndim)\n",
        "print(arr.size)"
      ],
      "metadata": {
        "colab": {
          "base_uri": "https://localhost:8080/"
        },
        "id": "ZCO7woODcaHR",
        "outputId": "791a6574-2bd0-40a1-a2d7-b9ac1fa5955d"
      },
      "execution_count": null,
      "outputs": [
        {
          "output_type": "stream",
          "name": "stdout",
          "text": [
            "[1 2 3 4 5 6 7 8 9]\n",
            "[[1 2 3]\n",
            " [4 5 6]\n",
            " [7 8 9]]\n",
            "<class 'numpy.ndarray'>\n",
            "int64\n",
            "(9,)\n",
            "1\n",
            "9\n"
          ]
        }
      ]
    },
    {
      "cell_type": "code",
      "source": [
        " np.linspace(start , end(included) , koita)\n",
        "\n",
        "arr = np.linspace(0, 4 ,6)\n",
        "\n",
        "\n",
        "print(arr)\n",
        "print(type(arr))\n",
        "print(arr.dtype)\n",
        "print(arr.shape)\n",
        "print(arr.ndim)\n",
        "print(arr.size)"
      ],
      "metadata": {
        "colab": {
          "base_uri": "https://localhost:8080/",
          "height": 211
        },
        "id": "Pp0D4xu4cajF",
        "outputId": "9095ac88-3e80-40fe-b2aa-2291df1b09ad"
      },
      "execution_count": null,
      "outputs": [
        {
          "output_type": "error",
          "ename": "NameError",
          "evalue": "name 'start' is not defined",
          "traceback": [
            "\u001b[0;31m---------------------------------------------------------------------------\u001b[0m",
            "\u001b[0;31mNameError\u001b[0m                                 Traceback (most recent call last)",
            "\u001b[0;32m/tmp/ipython-input-3388619660.py\u001b[0m in \u001b[0;36m<cell line: 0>\u001b[0;34m()\u001b[0m\n\u001b[0;32m----> 1\u001b[0;31m \u001b[0mnp\u001b[0m\u001b[0;34m.\u001b[0m\u001b[0mlinspace\u001b[0m\u001b[0;34m(\u001b[0m\u001b[0mstart\u001b[0m \u001b[0;34m,\u001b[0m \u001b[0mend\u001b[0m\u001b[0;34m(\u001b[0m\u001b[0mincluded\u001b[0m\u001b[0;34m)\u001b[0m \u001b[0;34m,\u001b[0m \u001b[0mkoita\u001b[0m\u001b[0;34m)\u001b[0m\u001b[0;34m\u001b[0m\u001b[0;34m\u001b[0m\u001b[0m\n\u001b[0m\u001b[1;32m      2\u001b[0m \u001b[0;34m\u001b[0m\u001b[0m\n\u001b[1;32m      3\u001b[0m \u001b[0marr\u001b[0m \u001b[0;34m=\u001b[0m \u001b[0mnp\u001b[0m\u001b[0;34m.\u001b[0m\u001b[0mlinspace\u001b[0m\u001b[0;34m(\u001b[0m\u001b[0;36m0\u001b[0m\u001b[0;34m,\u001b[0m \u001b[0;36m4\u001b[0m \u001b[0;34m,\u001b[0m\u001b[0;36m6\u001b[0m\u001b[0;34m)\u001b[0m\u001b[0;34m\u001b[0m\u001b[0;34m\u001b[0m\u001b[0m\n\u001b[1;32m      4\u001b[0m \u001b[0;34m\u001b[0m\u001b[0m\n\u001b[1;32m      5\u001b[0m \u001b[0;34m\u001b[0m\u001b[0m\n",
            "\u001b[0;31mNameError\u001b[0m: name 'start' is not defined"
          ]
        }
      ]
    },
    {
      "cell_type": "code",
      "source": [
        "# np.logspace(start , end(included) , koita )\n",
        "\n",
        "arr = np.logspace(0 , 4 ,6, base =2)\n",
        "\n",
        "print(arr)"
      ],
      "metadata": {
        "colab": {
          "base_uri": "https://localhost:8080/"
        },
        "id": "el6tjoVkccwg",
        "outputId": "a14d37e5-2067-4ae9-b4a9-157ed63928ff"
      },
      "execution_count": null,
      "outputs": [
        {
          "output_type": "stream",
          "name": "stdout",
          "text": [
            "[ 1.          1.74110113  3.03143313  5.27803164  9.18958684 16.        ]\n"
          ]
        }
      ]
    },
    {
      "cell_type": "markdown",
      "source": [
        "### creating matrix for Linear algebra"
      ],
      "metadata": {
        "id": "z4Jawioschty"
      }
    },
    {
      "cell_type": "code",
      "source": [
        "diagonal_matrix = np.diag([1,2,3,4])\n",
        "\n",
        "print(diagonal_matrix)\n",
        "print(diagonal_matrix.shape)"
      ],
      "metadata": {
        "colab": {
          "base_uri": "https://localhost:8080/"
        },
        "id": "NaJEGg_Lckps",
        "outputId": "906fa8ca-57a7-4c31-b02b-fc41f1909070"
      },
      "execution_count": null,
      "outputs": [
        {
          "output_type": "stream",
          "name": "stdout",
          "text": [
            "[[1 0 0 0]\n",
            " [0 2 0 0]\n",
            " [0 0 3 0]\n",
            " [0 0 0 4]]\n",
            "(4, 4)\n"
          ]
        }
      ]
    },
    {
      "cell_type": "code",
      "source": [
        "# identity matrix\n",
        "\n",
        "identity_mat = np.eye(4)\n",
        "# print(identity_mat)\n",
        "# print(identity_mat.shape)\n",
        "\n",
        "\n",
        "# np.eye(row , column,k)\n",
        "\n",
        "mat = np.eye(3,4)\n",
        "print(mat)\n",
        "\n",
        "mat = np.eye(3,4,1)\n",
        "print(mat)"
      ],
      "metadata": {
        "colab": {
          "base_uri": "https://localhost:8080/"
        },
        "id": "DfSGJVVPclIt",
        "outputId": "9be4a7b0-9dec-4297-aacb-caffeff183de"
      },
      "execution_count": null,
      "outputs": [
        {
          "output_type": "stream",
          "name": "stdout",
          "text": [
            "[[1. 0. 0. 0.]\n",
            " [0. 1. 0. 0.]\n",
            " [0. 0. 1. 0.]]\n",
            "[[0. 1. 0. 0.]\n",
            " [0. 0. 1. 0.]\n",
            " [0. 0. 0. 1.]]\n"
          ]
        }
      ]
    },
    {
      "cell_type": "markdown",
      "source": [
        "### indexing and slicing"
      ],
      "metadata": {
        "id": "i1OVPhRecrEO"
      }
    },
    {
      "cell_type": "code",
      "source": [
        "#indexing\n",
        "\n",
        "print(arr1)\n",
        "print(arr2)\n",
        "\n",
        "# arr1[2] = 100\n",
        "\n",
        "# print(arr1)\n",
        "arr2[0][2]= 100\n",
        "\n",
        "print(arr2)"
      ],
      "metadata": {
        "colab": {
          "base_uri": "https://localhost:8080/"
        },
        "id": "XAN2N3CbcuWy",
        "outputId": "45a959ac-56e6-4075-bb49-736e78dd4843"
      },
      "execution_count": null,
      "outputs": [
        {
          "output_type": "stream",
          "name": "stdout",
          "text": [
            "[1 2 3 4 5]\n",
            "[[1 2 3]\n",
            " [4 5 6]]\n",
            "[[  1   2 100]\n",
            " [  4   5   6]]\n"
          ]
        }
      ]
    },
    {
      "cell_type": "code",
      "source": [
        "#slicing\n",
        "#1d = arr[start:end:step]\n",
        "\n",
        "arr1_mod = arr1[1:4].copy()\n",
        "arr1[1] = 2\n",
        "\n",
        "\n",
        "arr1_mod[2] = 200\n",
        "print(arr1_mod)\n",
        "print(arr1)"
      ],
      "metadata": {
        "colab": {
          "base_uri": "https://localhost:8080/"
        },
        "id": "HdjmKmcrdJrW",
        "outputId": "e65ce339-2c6b-4440-b8d5-b200b2175914"
      },
      "execution_count": null,
      "outputs": [
        {
          "output_type": "stream",
          "name": "stdout",
          "text": [
            "[  2   3 200]\n",
            "[1 2 3 4 5]\n"
          ]
        }
      ]
    },
    {
      "cell_type": "code",
      "source": [
        "#2d slicing\n",
        "# arr[ row_start : row_end : step , column_start : column_end : step ]\n",
        "\n",
        "# print(arr2)\n",
        "\n",
        "#getting a row\n",
        "\n",
        "row_0 = arr2[0:1 ,]\n",
        "\n",
        "row_1= arr2[1: , ]\n",
        "\n",
        "# print(row_0)\n",
        "# print(row_1)\n",
        "\n",
        "\n",
        "#getting a column\n",
        "\n",
        "col_0 = arr2[:: ,0:1]\n",
        "col_1 = arr2[::,1:2]\n",
        "\n",
        "print(col_0)\n",
        "print(col_1)\n",
        "\n",
        "#getting a portion\n",
        "\n",
        "\n",
        "portion = arr2[:: , 0:2]\n",
        "\n",
        "print(portion)"
      ],
      "metadata": {
        "colab": {
          "base_uri": "https://localhost:8080/"
        },
        "id": "t8mMXxEtdMLp",
        "outputId": "75cce39f-a6f9-4c77-c007-cee039e2b574"
      },
      "execution_count": null,
      "outputs": [
        {
          "output_type": "stream",
          "name": "stdout",
          "text": [
            "[[1]\n",
            " [4]]\n",
            "[[2]\n",
            " [5]]\n",
            "[[1 2]\n",
            " [4 5]]\n"
          ]
        }
      ]
    },
    {
      "cell_type": "code",
      "source": [],
      "metadata": {
        "id": "-4OfWVlxdPIj"
      },
      "execution_count": null,
      "outputs": []
    },
    {
      "cell_type": "markdown",
      "source": [
        "## Advanced Indexing"
      ],
      "metadata": {
        "id": "7bHJMw7JdQ4H"
      }
    },
    {
      "cell_type": "code",
      "source": [
        "lst = np.array([ 10 , 20 ,30 ,40 ])\n",
        "\n",
        "values = lst[[0,3,1]]\n",
        "\n",
        "print(values)"
      ],
      "metadata": {
        "colab": {
          "base_uri": "https://localhost:8080/"
        },
        "id": "7VRNjUCmdSpI",
        "outputId": "95043df4-b083-40ba-e05b-00269cdd66af"
      },
      "execution_count": null,
      "outputs": [
        {
          "output_type": "stream",
          "name": "stdout",
          "text": [
            "[10 40 20]\n"
          ]
        }
      ]
    },
    {
      "cell_type": "code",
      "source": [
        "print(arr2)\n",
        "print(arr2[[0,1] , [1,2]])\n",
        "\n",
        "# boolean kono kichu diye\n",
        "print(arr2[arr>1])\n",
        "arr2[arr2>2] = 0\n",
        "\n",
        "print(arr2)"
      ],
      "metadata": {
        "colab": {
          "base_uri": "https://localhost:8080/",
          "height": 263
        },
        "id": "md0NVkCIdUim",
        "outputId": "4daa8c2c-6984-4cec-ec3a-9424a7e6e7f3"
      },
      "execution_count": null,
      "outputs": [
        {
          "output_type": "stream",
          "name": "stdout",
          "text": [
            "[[  1   2 100]\n",
            " [  4   5   6]]\n",
            "[2 6]\n"
          ]
        },
        {
          "output_type": "error",
          "ename": "IndexError",
          "evalue": "boolean index did not match indexed array along axis 0; size of axis is 2 but size of corresponding boolean axis is 6",
          "traceback": [
            "\u001b[0;31m---------------------------------------------------------------------------\u001b[0m",
            "\u001b[0;31mIndexError\u001b[0m                                Traceback (most recent call last)",
            "\u001b[0;32m/tmp/ipython-input-2031058046.py\u001b[0m in \u001b[0;36m<cell line: 0>\u001b[0;34m()\u001b[0m\n\u001b[1;32m      3\u001b[0m \u001b[0;34m\u001b[0m\u001b[0m\n\u001b[1;32m      4\u001b[0m \u001b[0;31m# boolean kono kichu diye\u001b[0m\u001b[0;34m\u001b[0m\u001b[0;34m\u001b[0m\u001b[0m\n\u001b[0;32m----> 5\u001b[0;31m \u001b[0mprint\u001b[0m\u001b[0;34m(\u001b[0m\u001b[0marr2\u001b[0m\u001b[0;34m[\u001b[0m\u001b[0marr\u001b[0m\u001b[0;34m>\u001b[0m\u001b[0;36m1\u001b[0m\u001b[0;34m]\u001b[0m\u001b[0;34m)\u001b[0m\u001b[0;34m\u001b[0m\u001b[0;34m\u001b[0m\u001b[0m\n\u001b[0m\u001b[1;32m      6\u001b[0m \u001b[0marr2\u001b[0m\u001b[0;34m[\u001b[0m\u001b[0marr2\u001b[0m\u001b[0;34m>\u001b[0m\u001b[0;36m2\u001b[0m\u001b[0;34m]\u001b[0m \u001b[0;34m=\u001b[0m \u001b[0;36m0\u001b[0m\u001b[0;34m\u001b[0m\u001b[0;34m\u001b[0m\u001b[0m\n\u001b[1;32m      7\u001b[0m \u001b[0;34m\u001b[0m\u001b[0m\n",
            "\u001b[0;31mIndexError\u001b[0m: boolean index did not match indexed array along axis 0; size of axis is 2 but size of corresponding boolean axis is 6"
          ]
        }
      ]
    },
    {
      "cell_type": "code",
      "source": [
        "print(arr2)"
      ],
      "metadata": {
        "colab": {
          "base_uri": "https://localhost:8080/"
        },
        "id": "OknWGxVQdWZi",
        "outputId": "ab977685-3d4c-49b5-c1a4-cd56b48aafff"
      },
      "execution_count": null,
      "outputs": [
        {
          "output_type": "stream",
          "name": "stdout",
          "text": [
            "[[  1   2 100]\n",
            " [  4   5   6]]\n"
          ]
        }
      ]
    },
    {
      "cell_type": "code",
      "source": [
        "arr  = np.array([[10,20,30] , [100,200,300] ] )\n",
        "\n",
        "# iteration\n",
        "print(arr3)\n",
        "for i in np.nditer(arr3):\n",
        "    print(i)"
      ],
      "metadata": {
        "colab": {
          "base_uri": "https://localhost:8080/"
        },
        "id": "Ok-0VXXWdYQF",
        "outputId": "e21faa90-79c6-4ceb-d0e9-5c76c2beb41b"
      },
      "execution_count": null,
      "outputs": [
        {
          "output_type": "stream",
          "name": "stdout",
          "text": [
            "[[[1 2 3]\n",
            "  [4 5 6]]\n",
            "\n",
            " [[1 2 3]\n",
            "  [4 5 6]]\n",
            "\n",
            " [[1 2 3]\n",
            "  [4 5 6]]]\n",
            "1\n",
            "2\n",
            "3\n",
            "4\n",
            "5\n",
            "6\n",
            "1\n",
            "2\n",
            "3\n",
            "4\n",
            "5\n",
            "6\n",
            "1\n",
            "2\n",
            "3\n",
            "4\n",
            "5\n",
            "6\n"
          ]
        }
      ]
    },
    {
      "cell_type": "markdown",
      "source": [
        "# Celsius → Fahrenheit convertion"
      ],
      "metadata": {
        "id": "oZwmVudgkfJr"
      }
    },
    {
      "cell_type": "code",
      "source": [
        "import numpy as np\n",
        "celsius = [0, 20, 37, 100]\n",
        "\n",
        "celsius_array = np.array(celsius)\n",
        "fahrenheit_array = celsius_array * 1.8 + 32\n",
        "print(\"Fahrenheit temperatures:\", fahrenheit_array)"
      ],
      "metadata": {
        "id": "4RV-wnC-kec0",
        "outputId": "91eeef9d-5524-4b18-f4be-fdc75bd4df9a",
        "colab": {
          "base_uri": "https://localhost:8080/"
        }
      },
      "execution_count": 2,
      "outputs": [
        {
          "output_type": "stream",
          "name": "stdout",
          "text": [
            "Fahrenheit temperatures: [ 32.   68.   98.6 212. ]\n"
          ]
        }
      ]
    },
    {
      "cell_type": "markdown",
      "source": [
        "# Lap Times → Seconds to Minutes"
      ],
      "metadata": {
        "id": "MR8inf_AlDkP"
      }
    },
    {
      "cell_type": "code",
      "source": [
        "import numpy as np\n",
        "lap_times = [60, 75, 90, 120, 150]\n",
        "\n",
        "lap_array = np.array(lap_times)\n",
        "\n",
        "print(\"Array shape:\", lap_array.shape)\n",
        "print(\"Array size:\", lap_array.size)\n",
        "print(\"Data type:\", lap_array.dtype)\n",
        "\n",
        "lap_minutes = lap_array / 60\n",
        "\n",
        "print(\"Lap times in minutes:\", lap_minutes)\n"
      ],
      "metadata": {
        "id": "KizdgMpalFuc",
        "outputId": "64a3f321-b8de-409d-87d2-d5f3c5500f28",
        "colab": {
          "base_uri": "https://localhost:8080/"
        }
      },
      "execution_count": 3,
      "outputs": [
        {
          "output_type": "stream",
          "name": "stdout",
          "text": [
            "Array shape: (5,)\n",
            "Array size: 5\n",
            "Data type: int64\n",
            "Lap times in minutes: [1.   1.25 1.5  2.   2.5 ]\n"
          ]
        }
      ]
    }
  ]
}